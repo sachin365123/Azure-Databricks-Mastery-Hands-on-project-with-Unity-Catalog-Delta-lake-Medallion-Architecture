{
 "cells": [
  {
   "cell_type": "markdown",
   "metadata": {
    "application/vnd.databricks.v1+cell": {
     "cellMetadata": {},
     "inputWidgets": {},
     "nuid": "e82dbf15-74a8-40d1-aa9e-d3da221b7122",
     "showTitle": false,
     "tableResultSettingsMap": {},
     "title": ""
    }
   },
   "source": [
    "# Most common mistakes or keep in mind before this activity"
   ]
  },
  {
   "cell_type": "markdown",
   "metadata": {
    "application/vnd.databricks.v1+cell": {
     "cellMetadata": {},
     "inputWidgets": {},
     "nuid": "9a6a5324-24d4-41c2-98b4-d374b37950d2",
     "showTitle": false,
     "tableResultSettingsMap": {},
     "title": ""
    }
   },
   "source": [
    "- Keep databse hirachy like, data is inside sachindatastorage-> landin-> two files-> raw_roads and raw_traffic-> then all respective CSV files in these two folders \n",
    "- Give Access connector Databricks with Add role assignment\n",
    "- Do not forget to make chamge global as \"SQL\" in this notebook\n",
    "- Make path to your metastore as landing@storagetestsachin.dfs.core.windows.net bcs ur data is at same path\n",
    "- First run First two cells and then run DLT Pipeline to initiate first create two tables in dev-catlog\n",
    "- DLT Pipeline will automatically create relationship or dependncies \n",
    "- Secondly run Third and Forth cells and then run DLT Pipeline to initiate relationship\n",
    "- Thirdly fifth cell in third run of DLT pipeline"
   ]
  },
  {
   "cell_type": "code",
   "execution_count": 0,
   "metadata": {
    "application/vnd.databricks.v1+cell": {
     "cellMetadata": {},
     "inputWidgets": {},
     "nuid": "a404afc5-100d-406e-bd93-a05537975e4b",
     "showTitle": false,
     "tableResultSettingsMap": {},
     "title": ""
    }
   },
   "outputs": [],
   "source": [
    "%sql\n",
    "CREATE OR REFRESH STREAMING LIVE TABLE raw_traffic_dl\n",
    "AS SELECT \n",
    "\"Record ID\"   AS  Record_ID ,\n",
    "\"Count point id\"    AS  Count_point_id ,\n",
    "\"Direction of travel\"     AS Direction_of_travel  ,\n",
    "\"Year\"     AS  Year ,\n",
    "\"Count date\"     AS  Count_date ,\n",
    "\"hour\"     AS  hour ,\n",
    "\"Region id\"     AS   Region_id,\n",
    "\"Region name\"     AS   Region_name,\n",
    "\"Local authority name\"     AS  Local_authority_name ,\n",
    "\"Road name\"     AS  Road_name ,\n",
    "\"Road Category ID\"     AS  Road_Category_ID ,\n",
    "\"Start junction road name\"     AS  Start_junction_road_name ,\n",
    "\"End junction road name\"     AS   End_junction_road_name,\n",
    "\"Latitude\"     AS   Latitude,\n",
    "\"Longitude\"     AS   Longitude,\n",
    "\"Link length km\"     AS  Link_length_km ,\n",
    "\"Pedal cycles\"     AS   Pedal_cycles ,\n",
    "\"Two wheeled motor vehicles\"     AS  Two_wheeled_motor_vehicles ,\n",
    "\"Cars and taxis\"     AS  Cars_and_taxis ,\n",
    "\"Buses and coaches\"     AS   Buses_and_coaches,\n",
    "\"LGV Type\"     AS   LGV_Type,\n",
    "\"HGV Type\"     AS  HGV_Type ,\n",
    "\"EV Car\"     AS   EV_Car,\n",
    "\"EV Bike\" AS EV_Bike\n",
    "\n",
    "FROM cloud_files(\n",
    "  'abfss://landing@storagetestsachin.dfs.core.windows.net/raw_traffic',\n",
    "  'csv'\n",
    ")"
   ]
  },
  {
   "cell_type": "code",
   "execution_count": 0,
   "metadata": {
    "application/vnd.databricks.v1+cell": {
     "cellMetadata": {},
     "inputWidgets": {},
     "nuid": "5d81406c-c32e-493a-84a5-c3a8e91e7570",
     "showTitle": false,
     "tableResultSettingsMap": {},
     "title": ""
    }
   },
   "outputs": [],
   "source": [
    "%sql\n",
    "CREATE OR REFRESH STREAMING LIVE TABLE raw_roads_dl\n",
    "AS SELECT \n",
    "\"Road ID\"    AS   Road_ID  ,\n",
    "\"Road category id\"    AS    Road_category_id ,\n",
    "\"Road category\"    AS   Road_category  ,\n",
    "\"Region id\"    AS     Region_id,\n",
    "\"Region name\"    AS     Region_name,\n",
    "\"Total link length km\"    AS    Total_link_length_km ,\n",
    "\"Total link length miles\"    AS    Total_link_length_miles ,\n",
    "\"All motor vehicles\"   AS   All_motor_vehicles\n",
    "\n",
    "FROM cloud_files(\n",
    " 'abfss://landing@storagetestsachin.dfs.core.windows.net/raw_roads',\n",
    "  'csv'\n",
    ")"
   ]
  },
  {
   "cell_type": "markdown",
   "metadata": {
    "application/vnd.databricks.v1+cell": {
     "cellMetadata": {},
     "inputWidgets": {},
     "nuid": "3be946d7-f318-481c-b2a7-4eb9b366f89c",
     "showTitle": false,
     "tableResultSettingsMap": {},
     "title": ""
    }
   },
   "source": [
    "- First run First two cells and then run DLT Pipeline to initiate first create two tables in dev-catlog\n",
    "- DLT Pipeline will automatically create relationship or dependncies \n",
    "- Secondly run Third and Forth cells and then run DLT Pipeline to initiate relationship\n",
    "- Thirdly fifth cell in third run of DLT pipeline"
   ]
  },
  {
   "cell_type": "code",
   "execution_count": 0,
   "metadata": {
    "application/vnd.databricks.v1+cell": {
     "cellMetadata": {},
     "inputWidgets": {},
     "nuid": "7dd36b5b-fb1a-477d-93ef-b998aadfc77c",
     "showTitle": false,
     "tableResultSettingsMap": {},
     "title": ""
    }
   },
   "outputs": [],
   "source": [
    "CREATE OR REFRESH STREAMING LIVE TABLE traffic_cleaned_dl (\n",
    "CONSTRAINT valid_Record1 EXPECT (\"Year\" IS NOT NULL ) ON VIOLATION DROP ROW )\n",
    "AS SELECT *\n",
    "FROM STREAM(LIVE.`raw_traffic_dl`)"
   ]
  },
  {
   "cell_type": "code",
   "execution_count": 0,
   "metadata": {
    "application/vnd.databricks.v1+cell": {
     "cellMetadata": {},
     "inputWidgets": {},
     "nuid": "0acab42e-7061-443f-ad4e-b6577395937e",
     "showTitle": false,
     "tableResultSettingsMap": {},
     "title": ""
    }
   },
   "outputs": [],
   "source": [
    "CREATE OR REFRESH STREAMING LIVE TABLE roads_cleaned_dl (\n",
    "CONSTRAINT valid_Record1 EXPECT (\"Region_name\" IS NOT NULL ) ON VIOLATION DROP ROW )\n",
    "AS SELECT *\n",
    "FROM STREAM(LIVE.`raw_roads_dl`)"
   ]
  },
  {
   "cell_type": "markdown",
   "metadata": {
    "application/vnd.databricks.v1+cell": {
     "cellMetadata": {},
     "inputWidgets": {},
     "nuid": "815f79b8-4799-44c6-90cc-62b6811008ee",
     "showTitle": false,
     "tableResultSettingsMap": {},
     "title": ""
    }
   },
   "source": [
    "- First run First two cells and then run DLT Pipeline to initiate first create two tables in dev-catlog\n",
    "- DLT Pipeline will automatically create relationship or dependncies \n",
    "- Secondly run Third and Forth cells and then run DLT Pipeline to initiate relationship\n",
    "- Thirdly fifth cell in third run of DLT pipeline"
   ]
  },
  {
   "cell_type": "code",
   "execution_count": 0,
   "metadata": {
    "application/vnd.databricks.v1+cell": {
     "cellMetadata": {},
     "inputWidgets": {},
     "nuid": "9be7ad11-4d56-44f6-aed9-dc50ea61d2a7",
     "showTitle": false,
     "tableResultSettingsMap": {},
     "title": ""
    }
   },
   "outputs": [],
   "source": [
    "CREATE OR REFRESH STREAMING LIVE TABLE Final_Gold \n",
    "AS\n",
    "SELECT \n",
    "  TR.Record_ID,\n",
    "  TR.Count_point_id,\n",
    "  TR.Direction_of_travel,\n",
    "  TR.Year,\n",
    "  TR.Count_date,\n",
    "  TR.hour,\n",
    "  TR.Region_id,\n",
    "  TR.Region_name,\n",
    "  TR.Local_authority_name,\n",
    "  TR.Road_name,\n",
    "  TR.Road_Category_ID,\n",
    "  TR.Start_junction_road_name,\n",
    "  TR.End_junction_road_name,\n",
    "  TR.Latitude,\n",
    "  TR.Longitude,\n",
    "  TR.Link_length_km,\n",
    "  TR.Pedal_cycles,\n",
    "  TR.Two_wheeled_motor_vehicles,\n",
    "  TR.Cars_and_taxis,\n",
    "  TR.Buses_and_coaches,\n",
    "  TR.LGV_Type,\n",
    "  RR.Road_ID\n",
    "\n",
    "FROM STREAM(LIVE.`traffic_cleaned_dl`) AS TR\n",
    "JOIN\n",
    "  STREAM(LIVE.`roads_cleaned_dl`) AS RR\n",
    "ON \n",
    "TR.Road_Category_ID = RR.Road_category_id;"
   ]
  }
 ],
 "metadata": {
  "application/vnd.databricks.v1+notebook": {
   "computePreferences": null,
   "dashboards": [],
   "environmentMetadata": {
    "base_environment": "",
    "client": "1"
   },
   "language": "sql",
   "notebookMetadata": {
    "pythonIndentUnit": 4
   },
   "notebookName": "Day 14 DLT_Databricks",
   "widgets": {}
  },
  "language_info": {
   "name": "sql"
  }
 },
 "nbformat": 4,
 "nbformat_minor": 0
}