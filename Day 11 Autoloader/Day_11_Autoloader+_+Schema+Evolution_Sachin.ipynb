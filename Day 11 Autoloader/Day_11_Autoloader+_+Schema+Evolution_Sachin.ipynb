{
 "cells": [
  {
   "cell_type": "markdown",
   "metadata": {
    "application/vnd.databricks.v1+cell": {
     "cellMetadata": {},
     "inputWidgets": {},
     "nuid": "d3a5100a-a215-4564-b0e5-ad77d3487274",
     "showTitle": false,
     "tableResultSettingsMap": {},
     "title": ""
    }
   },
   "source": [
    "## Refrenece: https://www.databricks.com/blog/2019/09/24/diving-into-delta-lake-schema-enforcement-evolution.html"
   ]
  },
  {
   "cell_type": "code",
   "execution_count": 0,
   "metadata": {
    "application/vnd.databricks.v1+cell": {
     "cellMetadata": {
      "byteLimit": 2048000,
      "rowLimit": 10000
     },
     "inputWidgets": {},
     "nuid": "a93f237c-948c-483c-954a-21e69a7384e2",
     "showTitle": false,
     "tableResultSettingsMap": {},
     "title": ""
    },
    "id": "hJ0FGV6RT7SN",
    "outputId": "594e7c3c-b78e-43c5-9ad4-fccb8f937d8f"
   },
   "outputs": [
    {
     "output_type": "stream",
     "name": "stdout",
     "output_type": "stream",
     "text": [
      "Out[1]: True"
     ]
    }
   ],
   "source": [
    "# delete existing DB and folders consisting of old checkpoints and updated files\n",
    "dbutils.fs.rm('dbfs:/user/hive/warehouse/stream.db',True)\n",
    "dbutils.fs.rm('dbfs:/FileStore/streaming',True)"
   ]
  },
  {
   "cell_type": "code",
   "execution_count": 0,
   "metadata": {
    "application/vnd.databricks.v1+cell": {
     "cellMetadata": {
      "byteLimit": 2048000,
      "implicitDf": true,
      "rowLimit": 10000
     },
     "inputWidgets": {},
     "nuid": "737a685d-f33d-4285-8332-00bf402101f5",
     "showTitle": false,
     "tableResultSettingsMap": {},
     "title": ""
    },
    "id": "Pibvu4ocT7SO",
    "outputId": "6eddf006-da29-4ba5-c889-0d3012892145"
   },
   "outputs": [
    {
     "output_type": "display_data",
     "data": {
      "text/html": [
       "<style scoped>\n",
       "  .table-result-container {\n",
       "    max-height: 300px;\n",
       "    overflow: auto;\n",
       "  }\n",
       "  table, th, td {\n",
       "    border: 1px solid black;\n",
       "    border-collapse: collapse;\n",
       "  }\n",
       "  th, td {\n",
       "    padding: 5px;\n",
       "  }\n",
       "  th {\n",
       "    text-align: left;\n",
       "  }\n",
       "</style><div class='table-result-container'><table class='table-result'><thead style='background-color: white'><tr></tr></thead><tbody></tbody></table></div>"
      ]
     },
     "metadata": {
      "application/vnd.databricks.v1+output": {
       "addedWidgets": {},
       "aggData": [],
       "aggError": "",
       "aggOverflow": false,
       "aggSchema": [],
       "aggSeriesLimitReached": false,
       "aggType": "",
       "arguments": {},
       "columnCustomDisplayInfos": {},
       "data": [],
       "datasetInfos": [],
       "dbfsResultPath": null,
       "isJsonSchema": true,
       "metadata": {},
       "overflow": false,
       "plotOptions": {
        "customPlotOptions": {},
        "displayType": "table",
        "pivotAggregation": null,
        "pivotColumns": null,
        "xColumns": null,
        "yColumns": null
       },
       "removedWidgets": [],
       "schema": [],
       "type": "table"
      }
     },
     "output_type": "display_data"
    }
   ],
   "source": [
    "%sql\n",
    "# In the SQL command DROP DATABASE IF EXISTS stream CASCADE,\n",
    "# the keyword CASCADE is an option\n",
    "# used to ensure that the database is dropped along with all of its dependent objects\n",
    "# or associated objects (like tables, views, functions, schemas, etc.)\n",
    "DROP DATABASE IF EXISTS stream CASCADE;\n",
    "CREATE DATABASE IF NOT EXISTS stream"
   ]
  },
  {
   "cell_type": "markdown",
   "metadata": {
    "application/vnd.databricks.v1+cell": {
     "cellMetadata": {},
     "inputWidgets": {},
     "nuid": "632c81e2-106e-4074-b4a3-9f8fb9ed9e8c",
     "showTitle": false,
     "tableResultSettingsMap": {},
     "title": ""
    },
    "id": "iUFPDy7hT7SO"
   },
   "source": [
    "\n",
    "## AutoLoader"
   ]
  },
  {
   "cell_type": "code",
   "execution_count": 0,
   "metadata": {
    "application/vnd.databricks.v1+cell": {
     "cellMetadata": {
      "byteLimit": 2048000,
      "rowLimit": 10000
     },
     "inputWidgets": {},
     "nuid": "f3b85c29-2de6-403b-b53a-7be203e15d4e",
     "showTitle": false,
     "tableResultSettingsMap": {},
     "title": ""
    },
    "id": "bjZbEN5jT7SP"
   },
   "outputs": [],
   "source": [
    "# create a fresh folder in dbfs\n",
    "source_dir = 'dbfs:/FileStore/streaming/'"
   ]
  },
  {
   "cell_type": "code",
   "execution_count": 0,
   "metadata": {
    "application/vnd.databricks.v1+cell": {
     "cellMetadata": {},
     "inputWidgets": {},
     "nuid": "4e2c72fd-fef9-4ae7-84c1-be448b2e7637",
     "showTitle": false,
     "tableResultSettingsMap": {},
     "title": ""
    },
    "id": "4hGRhf_jUonO"
   },
   "outputs": [],
   "source": [
    "# What is role of schemaLocation?\n",
    "# So the schema location path is required because first when it is trying to read the file, it is going\n",
    "# to understand the schema of this particular data frame.\n",
    "# So auto loader will first try to read the 100 files or the first 50 GB files.\n",
    "# And it is going to conclude that this is the schema which it is going to expect.\n",
    "\n",
    "df = spark.readStream\\\n",
    "        .format('cloudFiles')\\\n",
    "        .option(\"cloudFiles.format\",\"csv\")\\\n",
    "        .option(\"cloudFiles.schemaLocation\",f'{source_dir}/schemaInfer')\\\n",
    "        .option('header','true')\\\n",
    "        .load(source_dir)"
   ]
  },
  {
   "cell_type": "code",
   "execution_count": 0,
   "metadata": {
    "application/vnd.databricks.v1+cell": {
     "cellMetadata": {},
     "inputWidgets": {},
     "nuid": "66df550f-8355-4915-848b-20f2f8b65dc8",
     "showTitle": false,
     "tableResultSettingsMap": {},
     "title": ""
    },
    "id": "ia_SAUVjVpTe"
   },
   "outputs": [],
   "source": [
    "# If you see the output, every column is in \"string\" format,\n",
    "# which means it just storing the schema location\n",
    "# You can see every column is string.\n",
    "\n",
    "# Although we have the integers in the citizens column.\n",
    "\n",
    "# And the reason is you are just storing the schema location,\n",
    "# but you are not inferring the schema.\n",
    "\n",
    "# So infer schema is something you need to\n",
    "# tell what schema that is present in this CSV files."
   ]
  },
  {
   "cell_type": "code",
   "execution_count": 0,
   "metadata": {
    "application/vnd.databricks.v1+cell": {
     "cellMetadata": {},
     "inputWidgets": {},
     "nuid": "577718de-7e8f-4221-b5d3-136eec7b2cae",
     "showTitle": false,
     "tableResultSettingsMap": {},
     "title": ""
    },
    "id": "Cg11LZR4WJAm"
   },
   "outputs": [],
   "source": [
    "# when inferColumnTypes\" is \"true\" then it will reflect correct data type of each column"
   ]
  },
  {
   "cell_type": "code",
   "execution_count": 0,
   "metadata": {
    "application/vnd.databricks.v1+cell": {
     "cellMetadata": {
      "byteLimit": 2048000,
      "rowLimit": 10000
     },
     "inputWidgets": {},
     "nuid": "2bcd3ec2-7963-413f-91f1-0c80881914c3",
     "showTitle": false,
     "tableResultSettingsMap": {},
     "title": ""
    },
    "id": "UtTVvbO8T7SP"
   },
   "outputs": [],
   "source": [
    "df = spark.readStream\\\n",
    "        .format('cloudFiles')\\\n",
    "        .option(\"cloudFiles.format\",\"csv\")\\\n",
    "        .option(\"cloudFiles.schemaLocation\",f'{source_dir}/schemaInfer')\\\n",
    "        .option(\"cloudFiles.inferColumnTypes\",\"true\")\\\n",
    "        .option('header','true')\\\n",
    "        .load(source_dir)"
   ]
  },
  {
   "cell_type": "code",
   "execution_count": 0,
   "metadata": {
    "application/vnd.databricks.v1+cell": {
     "cellMetadata": {
      "byteLimit": 2048000,
      "rowLimit": 10000
     },
     "inputWidgets": {},
     "nuid": "f04d57b2-3222-4a8f-be16-a2b3d562ff1d",
     "showTitle": false,
     "tableResultSettingsMap": {},
     "title": ""
    },
    "id": "046dVFOoT7SQ",
    "outputId": "e44ad7bf-a5ff-4ebc-b5de-04cbafe41d2a"
   },
   "outputs": [
    {
     "output_type": "stream",
     "name": "stdout",
     "output_type": "stream",
     "text": [
      "Out[13]: [FileInfo(path='dbfs:/FileStore/streaming/schemaInfer/_schemas/', name='_schemas/', size=0, modificationTime=0)]"
     ]
    }
   ],
   "source": [
    "dbutils.fs.ls(f'{source_dir}/schemaInfer')"
   ]
  },
  {
   "cell_type": "code",
   "execution_count": 0,
   "metadata": {
    "application/vnd.databricks.v1+cell": {
     "cellMetadata": {
      "byteLimit": 2048000,
      "rowLimit": 10000
     },
     "inputWidgets": {},
     "nuid": "255f4bd7-819c-4374-956b-83189f8fd2a9",
     "showTitle": false,
     "tableResultSettingsMap": {},
     "title": ""
    },
    "id": "zcRRt4GPT7SQ",
    "outputId": "4eeba911-f6a1-469f-a21b-f2221584baaf"
   },
   "outputs": [
    {
     "output_type": "stream",
     "name": "stdout",
     "output_type": "stream",
     "text": [
      "Out[14]: [FileInfo(path='dbfs:/FileStore/streaming/schemaInfer/_schemas/0', name='0', size=274, modificationTime=1701879153000)]"
     ]
    }
   ],
   "source": [
    "dbutils.fs.ls('dbfs:/FileStore/streaming/schemaInfer/_schemas/')\n",
    "# you can also see in UI in dbfs"
   ]
  },
  {
   "cell_type": "code",
   "execution_count": 0,
   "metadata": {
    "application/vnd.databricks.v1+cell": {
     "cellMetadata": {
      "byteLimit": 2048000,
      "implicitDf": true,
      "rowLimit": 10000
     },
     "inputWidgets": {},
     "nuid": "164deb48-8f36-4964-9ad7-43a591fe3c97",
     "showTitle": false,
     "tableResultSettingsMap": {},
     "title": ""
    },
    "id": "T_uZCAS2T7SQ",
    "outputId": "c7bdcfd5-8467-47cb-a9bf-3cb4a27956ee"
   },
   "outputs": [
    {
     "output_type": "display_data",
     "data": {
      "text/html": [
       "<style scoped>\n",
       "  .table-result-container {\n",
       "    max-height: 300px;\n",
       "    overflow: auto;\n",
       "  }\n",
       "  table, th, td {\n",
       "    border: 1px solid black;\n",
       "    border-collapse: collapse;\n",
       "  }\n",
       "  th, td {\n",
       "    padding: 5px;\n",
       "  }\n",
       "  th {\n",
       "    text-align: left;\n",
       "  }\n",
       "</style><div class='table-result-container'><table class='table-result'><thead style='background-color: white'><tr><th>_corrupt_record</th><th>dataSchemaJson</th><th>partitionSchemaJson</th></tr></thead><tbody><tr><td>v1</td><td>null</td><td>null</td></tr><tr><td>null</td><td>{\"type\":\"struct\",\"fields\":[{\"name\":\"Country\",\"type\":\"string\",\"nullable\":true,\"metadata\":{}},{\"name\":\"Citizens\",\"type\":\"integer\",\"nullable\":true,\"metadata\":{}}]}</td><td>{\"type\":\"struct\",\"fields\":[]}</td></tr></tbody></table></div>"
      ]
     },
     "metadata": {
      "application/vnd.databricks.v1+output": {
       "addedWidgets": {},
       "aggData": [],
       "aggError": "",
       "aggOverflow": false,
       "aggSchema": [],
       "aggSeriesLimitReached": false,
       "aggType": "",
       "arguments": {},
       "columnCustomDisplayInfos": {},
       "data": [
        [
         "v1",
         null,
         null
        ],
        [
         null,
         "{\"type\":\"struct\",\"fields\":[{\"name\":\"Country\",\"type\":\"string\",\"nullable\":true,\"metadata\":{}},{\"name\":\"Citizens\",\"type\":\"integer\",\"nullable\":true,\"metadata\":{}}]}",
         "{\"type\":\"struct\",\"fields\":[]}"
        ]
       ],
       "datasetInfos": [],
       "dbfsResultPath": null,
       "isJsonSchema": true,
       "metadata": {},
       "overflow": false,
       "plotOptions": {
        "customPlotOptions": {},
        "displayType": "table",
        "pivotAggregation": null,
        "pivotColumns": null,
        "xColumns": null,
        "yColumns": null
       },
       "removedWidgets": [],
       "schema": [
        {
         "metadata": "{}",
         "name": "_corrupt_record",
         "type": "\"string\""
        },
        {
         "metadata": "{}",
         "name": "dataSchemaJson",
         "type": "\"string\""
        },
        {
         "metadata": "{}",
         "name": "partitionSchemaJson",
         "type": "\"string\""
        }
       ],
       "type": "table"
      }
     },
     "output_type": "display_data"
    }
   ],
   "source": [
    "%sql\n",
    "\n",
    "SELECT *\n",
    "FROM JSON.`dbfs:/FileStore/streaming/schemaInfer/_schemas/0`"
   ]
  },
  {
   "cell_type": "markdown",
   "metadata": {
    "application/vnd.databricks.v1+cell": {
     "cellMetadata": {},
     "inputWidgets": {},
     "nuid": "a41cc5d5-95da-4381-84f5-b806056dcce4",
     "showTitle": false,
     "tableResultSettingsMap": {},
     "title": ""
    },
    "id": "7oPSzdTuT7SQ"
   },
   "source": [
    "### SchemaHints"
   ]
  },
  {
   "cell_type": "code",
   "execution_count": 0,
   "metadata": {
    "application/vnd.databricks.v1+cell": {
     "cellMetadata": {
      "byteLimit": 2048000,
      "rowLimit": 10000
     },
     "inputWidgets": {},
     "nuid": "4a421317-1fa2-460f-add4-85b06c7d1319",
     "showTitle": false,
     "tableResultSettingsMap": {},
     "title": ""
    },
    "id": "0drWkTc4T7SQ"
   },
   "outputs": [],
   "source": [
    "# What is schemaHints',\"Citizens LONG\"?\n",
    "# if I want to change \"Citizens\"\n",
    "# from Int to \"LONG\", then schemaHints',\"Citizens LONG\" needs to be added\n",
    "        .format('cloudFiles')\\\n",
    "        .option(\"cloudFiles.format\",\"csv\")\\\n",
    "        .option(\"cloudFiles.schemaLocation\",f'{source_dir}/schemaInfer')\\\n",
    "        .option(\"cloudFiles.inferColumnTypes\",\"true\")\\\n",
    "        .option('cloudFiles.schemaHints',\"Citizens LONG\")\\\n",
    "        .option('header','true')\\\n",
    "        .load(source_dir)"
   ]
  },
  {
   "cell_type": "code",
   "execution_count": 0,
   "metadata": {
    "application/vnd.databricks.v1+cell": {
     "cellMetadata": {
      "byteLimit": 2048000,
      "rowLimit": 10000
     },
     "inputWidgets": {},
     "nuid": "7e58e936-b2a0-464b-8cce-2893a275d405",
     "showTitle": false,
     "tableResultSettingsMap": {},
     "title": ""
    },
    "id": "MtYR_dCPT7SQ",
    "outputId": "5ab2ab98-c850-44c2-91fd-bc7104a5c0f5"
   },
   "outputs": [
    {
     "output_type": "display_data",
     "data": {
      "text/html": [
       "<style scoped>\n",
       "  .table-result-container {\n",
       "    max-height: 300px;\n",
       "    overflow: auto;\n",
       "  }\n",
       "  table, th, td {\n",
       "    border: 1px solid black;\n",
       "    border-collapse: collapse;\n",
       "  }\n",
       "  th, td {\n",
       "    padding: 5px;\n",
       "  }\n",
       "  th {\n",
       "    text-align: left;\n",
       "  }\n",
       "</style><div class='table-result-container'><table class='table-result'><thead style='background-color: white'><tr><th>Country</th><th>Citizens</th><th>_rescued_data</th></tr></thead><tbody><tr><td>India</td><td>10</td><td>null</td></tr><tr><td>USA</td><td>5</td><td>null</td></tr><tr><td>China</td><td>10</td><td>null</td></tr><tr><td>India</td><td>10</td><td>null</td></tr><tr><td>Canada</td><td>40</td><td>null</td></tr><tr><td>Brazil</td><td>10</td><td>null</td></tr></tbody></table></div>"
      ]
     },
     "metadata": {
      "application/vnd.databricks.v1+output": {
       "addedWidgets": {},
       "aggData": [],
       "aggError": "",
       "aggOverflow": false,
       "aggSchema": [],
       "aggSeriesLimitReached": false,
       "aggType": "",
       "arguments": {},
       "columnCustomDisplayInfos": {},
       "data": [
        [
         "India",
         10,
         null
        ],
        [
         "USA",
         5,
         null
        ],
        [
         "China",
         10,
         null
        ],
        [
         "India",
         10,
         null
        ],
        [
         "Canada",
         40,
         null
        ],
        [
         "Brazil",
         10,
         null
        ]
       ],
       "datasetInfos": [],
       "dbfsResultPath": null,
       "isJsonSchema": true,
       "metadata": {
        "isDbfsCommandResult": false
       },
       "overflow": false,
       "plotOptions": {
        "customPlotOptions": {},
        "displayType": "table",
        "pivotAggregation": null,
        "pivotColumns": null,
        "xColumns": null,
        "yColumns": null
       },
       "removedWidgets": [],
       "schema": [
        {
         "metadata": "{}",
         "name": "Country",
         "type": "\"string\""
        },
        {
         "metadata": "{}",
         "name": "Citizens",
         "type": "\"long\""
        },
        {
         "metadata": "{}",
         "name": "_rescued_data",
         "type": "\"string\""
        }
       ],
       "type": "table"
      }
     },
     "output_type": "display_data"
    }
   ],
   "source": [
    "display(df)"
   ]
  },
  {
   "cell_type": "code",
   "execution_count": 0,
   "metadata": {
    "application/vnd.databricks.v1+cell": {
     "cellMetadata": {
      "byteLimit": 2048000,
      "implicitDf": true,
      "rowLimit": 10000
     },
     "inputWidgets": {},
     "nuid": "6ddc5cf8-9474-45f4-b86c-135558ebbf6b",
     "showTitle": false,
     "tableResultSettingsMap": {},
     "title": ""
    },
    "id": "aRWzT004T7SQ",
    "outputId": "906b1284-faa5-432c-8616-e62c6e86f108"
   },
   "outputs": [
    {
     "output_type": "display_data",
     "data": {
      "text/html": [
       "<style scoped>\n",
       "  .table-result-container {\n",
       "    max-height: 300px;\n",
       "    overflow: auto;\n",
       "  }\n",
       "  table, th, td {\n",
       "    border: 1px solid black;\n",
       "    border-collapse: collapse;\n",
       "  }\n",
       "  th, td {\n",
       "    padding: 5px;\n",
       "  }\n",
       "  th {\n",
       "    text-align: left;\n",
       "  }\n",
       "</style><div class='table-result-container'><table class='table-result'><thead style='background-color: white'><tr><th>_corrupt_record</th><th>dataSchemaJson</th><th>partitionSchemaJson</th></tr></thead><tbody><tr><td>v1</td><td>null</td><td>null</td></tr><tr><td>null</td><td>{\"type\":\"struct\",\"fields\":[{\"name\":\"Country\",\"type\":\"string\",\"nullable\":true,\"metadata\":{}},{\"name\":\"Citizens\",\"type\":\"integer\",\"nullable\":true,\"metadata\":{}}]}</td><td>{\"type\":\"struct\",\"fields\":[]}</td></tr></tbody></table></div>"
      ]
     },
     "metadata": {
      "application/vnd.databricks.v1+output": {
       "addedWidgets": {},
       "aggData": [],
       "aggError": "",
       "aggOverflow": false,
       "aggSchema": [],
       "aggSeriesLimitReached": false,
       "aggType": "",
       "arguments": {},
       "columnCustomDisplayInfos": {},
       "data": [
        [
         "v1",
         null,
         null
        ],
        [
         null,
         "{\"type\":\"struct\",\"fields\":[{\"name\":\"Country\",\"type\":\"string\",\"nullable\":true,\"metadata\":{}},{\"name\":\"Citizens\",\"type\":\"integer\",\"nullable\":true,\"metadata\":{}}]}",
         "{\"type\":\"struct\",\"fields\":[]}"
        ]
       ],
       "datasetInfos": [],
       "dbfsResultPath": null,
       "isJsonSchema": true,
       "metadata": {},
       "overflow": false,
       "plotOptions": {
        "customPlotOptions": {},
        "displayType": "table",
        "pivotAggregation": null,
        "pivotColumns": null,
        "xColumns": null,
        "yColumns": null
       },
       "removedWidgets": [],
       "schema": [
        {
         "metadata": "{}",
         "name": "_corrupt_record",
         "type": "\"string\""
        },
        {
         "metadata": "{}",
         "name": "dataSchemaJson",
         "type": "\"string\""
        },
        {
         "metadata": "{}",
         "name": "partitionSchemaJson",
         "type": "\"string\""
        }
       ],
       "type": "table"
      }
     },
     "output_type": "display_data"
    }
   ],
   "source": [
    "%sql\n",
    "# We are not seeing any impact of schemaHints',\"Citizens LONG\" here, which means\n",
    "# And if you can see here it is still showing as integer for citizens.\n",
    "# So schema hint is something.\n",
    "# It is going to explicitly define the data type to this column.\n",
    "# That doesn't mean that it is going to change the data type entirely in the schema level or the schema location.\n",
    "# So this is one of the option which is present in this particular autoloader.\n",
    "\n",
    "SELECT *\n",
    "FROM JSON.`dbfs:/FileStore/streaming/schemaInfer/_schemas/0`"
   ]
  },
  {
   "cell_type": "markdown",
   "metadata": {
    "application/vnd.databricks.v1+cell": {
     "cellMetadata": {},
     "inputWidgets": {},
     "nuid": "3a3ba14f-06ba-4e98-b83f-8a18f502c2f7",
     "showTitle": false,
     "tableResultSettingsMap": {},
     "title": ""
    },
    "id": "Zm-FPdXBT7SR"
   },
   "source": [
    "\n",
    "## Schema Evolution"
   ]
  },
  {
   "cell_type": "code",
   "execution_count": 0,
   "metadata": {
    "application/vnd.databricks.v1+cell": {
     "cellMetadata": {},
     "inputWidgets": {},
     "nuid": "a1a3741f-5cdd-4c96-9c68-e26ac2a6e7dd",
     "showTitle": false,
     "tableResultSettingsMap": {},
     "title": ""
    },
    "id": "Iu1IwDXNJa42"
   },
   "outputs": [],
   "source": [
    "# Now upload new csv file into 'dbfs:/FileStore/streaming', with name 'Countries_newcolumn1.csv'"
   ]
  },
  {
   "cell_type": "code",
   "execution_count": 0,
   "metadata": {
    "application/vnd.databricks.v1+cell": {
     "cellMetadata": {
      "byteLimit": 2048000,
      "rowLimit": 10000
     },
     "inputWidgets": {},
     "nuid": "231dfafc-ae08-4a05-a7dd-86b99e93c846",
     "showTitle": false,
     "tableResultSettingsMap": {},
     "title": ""
    },
    "id": "E93PacfBT7SR"
   },
   "outputs": [],
   "source": [
    "# Add an extra option cloudFiles.schemaEvolutionMode\n",
    "df = spark.readStream\\\n",
    "        .format('cloudFiles')\\\n",
    "        .option(\"cloudFiles.format\",\"csv\")\\\n",
    "        .option(\"cloudFiles.schemaLocation\",f'{source_dir}/schemaInfer')\\\n",
    "        .option('cloudFiles.schemaEvolutionMode','rescue')\\\n",
    "        .option('rescuedDataColumn','_rescued_data')\\\n",
    "        .option(\"cloudFiles.inferColumnTypes\",\"true\")\\\n",
    "        .option('cloudFiles.schemaHints',\"Citizens LONG\")\\\n",
    "        .option('header','true')\\\n",
    "        .load(source_dir)"
   ]
  },
  {
   "cell_type": "code",
   "execution_count": 0,
   "metadata": {
    "application/vnd.databricks.v1+cell": {
     "cellMetadata": {
      "byteLimit": 2048000,
      "rowLimit": 10000
     },
     "inputWidgets": {},
     "nuid": "d2a613fa-ed6d-4c10-b764-0b34f6fd4237",
     "showTitle": false,
     "tableResultSettingsMap": {},
     "title": ""
    },
    "id": "ZQPQ_WawT7SR",
    "outputId": "673a67d8-499b-4f62-954c-f41294613831"
   },
   "outputs": [
    {
     "output_type": "display_data",
     "data": {
      "text/html": [
       "<style scoped>\n",
       "  .table-result-container {\n",
       "    max-height: 300px;\n",
       "    overflow: auto;\n",
       "  }\n",
       "  table, th, td {\n",
       "    border: 1px solid black;\n",
       "    border-collapse: collapse;\n",
       "  }\n",
       "  th, td {\n",
       "    padding: 5px;\n",
       "  }\n",
       "  th {\n",
       "    text-align: left;\n",
       "  }\n",
       "</style><div class='table-result-container'><table class='table-result'><thead style='background-color: white'><tr><th>Country</th><th>Citizens</th><th>_rescued_data</th></tr></thead><tbody><tr><td>India</td><td>10</td><td>{\"Month\":\"November\",\"Year\":\"2023\",\"_file_path\":\"dbfs:/FileStore/streaming/Countries_newcolumn1.csv\"}</td></tr><tr><td>USA</td><td>10</td><td>{\"Month\":\"November\",\"Year\":\"2023\",\"_file_path\":\"dbfs:/FileStore/streaming/Countries_newcolumn1.csv\"}</td></tr><tr><td>China</td><td>20</td><td>{\"Month\":\"November\",\"Year\":\"2023\",\"_file_path\":\"dbfs:/FileStore/streaming/Countries_newcolumn1.csv\"}</td></tr><tr><td>Brazil</td><td>10</td><td>{\"Month\":\"November\",\"Year\":\"2023\",\"_file_path\":\"dbfs:/FileStore/streaming/Countries_newcolumn1.csv\"}</td></tr><tr><td>India</td><td>10</td><td>null</td></tr><tr><td>USA</td><td>5</td><td>null</td></tr><tr><td>China</td><td>10</td><td>null</td></tr><tr><td>India</td><td>10</td><td>null</td></tr><tr><td>Canada</td><td>40</td><td>null</td></tr><tr><td>Brazil</td><td>10</td><td>null</td></tr></tbody></table></div>"
      ]
     },
     "metadata": {
      "application/vnd.databricks.v1+output": {
       "addedWidgets": {},
       "aggData": [],
       "aggError": "",
       "aggOverflow": false,
       "aggSchema": [],
       "aggSeriesLimitReached": false,
       "aggType": "",
       "arguments": {},
       "columnCustomDisplayInfos": {},
       "data": [
        [
         "India",
         10,
         "{\"Month\":\"November\",\"Year\":\"2023\",\"_file_path\":\"dbfs:/FileStore/streaming/Countries_newcolumn1.csv\"}"
        ],
        [
         "USA",
         10,
         "{\"Month\":\"November\",\"Year\":\"2023\",\"_file_path\":\"dbfs:/FileStore/streaming/Countries_newcolumn1.csv\"}"
        ],
        [
         "China",
         20,
         "{\"Month\":\"November\",\"Year\":\"2023\",\"_file_path\":\"dbfs:/FileStore/streaming/Countries_newcolumn1.csv\"}"
        ],
        [
         "Brazil",
         10,
         "{\"Month\":\"November\",\"Year\":\"2023\",\"_file_path\":\"dbfs:/FileStore/streaming/Countries_newcolumn1.csv\"}"
        ],
        [
         "India",
         10,
         null
        ],
        [
         "USA",
         5,
         null
        ],
        [
         "China",
         10,
         null
        ],
        [
         "India",
         10,
         null
        ],
        [
         "Canada",
         40,
         null
        ],
        [
         "Brazil",
         10,
         null
        ]
       ],
       "datasetInfos": [],
       "dbfsResultPath": null,
       "isJsonSchema": true,
       "metadata": {
        "isDbfsCommandResult": false
       },
       "overflow": false,
       "plotOptions": {
        "customPlotOptions": {},
        "displayType": "table",
        "pivotAggregation": null,
        "pivotColumns": null,
        "xColumns": null,
        "yColumns": null
       },
       "removedWidgets": [],
       "schema": [
        {
         "metadata": "{}",
         "name": "Country",
         "type": "\"string\""
        },
        {
         "metadata": "{}",
         "name": "Citizens",
         "type": "\"long\""
        },
        {
         "metadata": "{}",
         "name": "_rescued_data",
         "type": "\"string\""
        }
       ],
       "type": "table"
      }
     },
     "output_type": "display_data"
    }
   ],
   "source": [
    "display(df)"
   ]
  },
  {
   "cell_type": "code",
   "execution_count": 0,
   "metadata": {
    "application/vnd.databricks.v1+cell": {
     "cellMetadata": {
      "byteLimit": 2048000,
      "implicitDf": true,
      "rowLimit": 10000
     },
     "inputWidgets": {},
     "nuid": "34aa2697-3ad4-42a7-bab7-0ee6d4939bde",
     "showTitle": false,
     "tableResultSettingsMap": {},
     "title": ""
    },
    "id": "0AixpHJUT7SR",
    "outputId": "579718de-8c52-4d47-d945-f1148f2d0c61"
   },
   "outputs": [
    {
     "output_type": "display_data",
     "data": {
      "text/html": [
       "<style scoped>\n",
       "  .table-result-container {\n",
       "    max-height: 300px;\n",
       "    overflow: auto;\n",
       "  }\n",
       "  table, th, td {\n",
       "    border: 1px solid black;\n",
       "    border-collapse: collapse;\n",
       "  }\n",
       "  th, td {\n",
       "    padding: 5px;\n",
       "  }\n",
       "  th {\n",
       "    text-align: left;\n",
       "  }\n",
       "</style><div class='table-result-container'><table class='table-result'><thead style='background-color: white'><tr><th>_corrupt_record</th><th>dataSchemaJson</th><th>partitionSchemaJson</th></tr></thead><tbody><tr><td>v1</td><td>null</td><td>null</td></tr><tr><td>null</td><td>{\"type\":\"struct\",\"fields\":[{\"name\":\"Country\",\"type\":\"string\",\"nullable\":true,\"metadata\":{}},{\"name\":\"Citizens\",\"type\":\"integer\",\"nullable\":true,\"metadata\":{}}]}</td><td>{\"type\":\"struct\",\"fields\":[]}</td></tr></tbody></table></div>"
      ]
     },
     "metadata": {
      "application/vnd.databricks.v1+output": {
       "addedWidgets": {},
       "aggData": [],
       "aggError": "",
       "aggOverflow": false,
       "aggSchema": [],
       "aggSeriesLimitReached": false,
       "aggType": "",
       "arguments": {},
       "columnCustomDisplayInfos": {},
       "data": [
        [
         "v1",
         null,
         null
        ],
        [
         null,
         "{\"type\":\"struct\",\"fields\":[{\"name\":\"Country\",\"type\":\"string\",\"nullable\":true,\"metadata\":{}},{\"name\":\"Citizens\",\"type\":\"integer\",\"nullable\":true,\"metadata\":{}}]}",
         "{\"type\":\"struct\",\"fields\":[]}"
        ]
       ],
       "datasetInfos": [],
       "dbfsResultPath": null,
       "isJsonSchema": true,
       "metadata": {},
       "overflow": false,
       "plotOptions": {
        "customPlotOptions": {},
        "displayType": "table",
        "pivotAggregation": null,
        "pivotColumns": null,
        "xColumns": null,
        "yColumns": null
       },
       "removedWidgets": [],
       "schema": [
        {
         "metadata": "{}",
         "name": "_corrupt_record",
         "type": "\"string\""
        },
        {
         "metadata": "{}",
         "name": "dataSchemaJson",
         "type": "\"string\""
        },
        {
         "metadata": "{}",
         "name": "partitionSchemaJson",
         "type": "\"string\""
        }
       ],
       "type": "table"
      }
     },
     "output_type": "display_data"
    }
   ],
   "source": [
    "%sql\n",
    "\n",
    "SELECT *\n",
    "FROM JSON.`dbfs:/FileStore/streaming/schemaInfer/_schemas/0`"
   ]
  },
  {
   "cell_type": "code",
   "execution_count": 0,
   "metadata": {
    "application/vnd.databricks.v1+cell": {
     "cellMetadata": {
      "byteLimit": 2048000,
      "rowLimit": 10000
     },
     "inputWidgets": {},
     "nuid": "8898cf3c-3918-4bf2-960a-a56401334e14",
     "showTitle": false,
     "tableResultSettingsMap": {},
     "title": ""
    },
    "id": "2HSUSc8mT7SR",
    "outputId": "79ee01ec-cd75-4e45-8e41-27cd476f3217"
   },
   "outputs": [
    {
     "output_type": "stream",
     "name": "stdout",
     "output_type": "stream",
     "text": [
      "Out[22]: [FileInfo(path='dbfs:/FileStore/streaming/schemaInfer/_schemas/0', name='0', size=274, modificationTime=1701879153000)]"
     ]
    }
   ],
   "source": [
    "dbutils.fs.ls('dbfs:/FileStore/streaming/schemaInfer/_schemas/')\n",
    "# once it will evolve Schema, so will add one more file here in this location"
   ]
  },
  {
   "cell_type": "markdown",
   "metadata": {
    "application/vnd.databricks.v1+cell": {
     "cellMetadata": {},
     "inputWidgets": {},
     "nuid": "a9336635-bc49-4401-8e47-b1ad95b2b634",
     "showTitle": false,
     "tableResultSettingsMap": {},
     "title": ""
    },
    "id": "j5v3DklsT7SR"
   },
   "source": [
    "\n",
    "### 02 - addNewColumns - Default"
   ]
  },
  {
   "cell_type": "code",
   "execution_count": 0,
   "metadata": {
    "application/vnd.databricks.v1+cell": {
     "cellMetadata": {
      "byteLimit": 2048000,
      "rowLimit": 10000
     },
     "inputWidgets": {},
     "nuid": "d13eec03-5830-4321-a9d7-c942520b2963",
     "showTitle": false,
     "tableResultSettingsMap": {},
     "title": ""
    },
    "id": "_9gVNV77T7SR"
   },
   "outputs": [],
   "source": [
    "df = spark.readStream\\\n",
    "        .format('cloudFiles')\\\n",
    "        .option(\"cloudFiles.format\",\"csv\")\\\n",
    "        .option(\"cloudFiles.schemaLocation\",f'{source_dir}/schemaInfer')\\\n",
    "        .option(\"cloudFiles.inferColumnTypes\",\"true\")\\\n",
    "        .option('cloudFiles.schemaHints',\"Citizens LONG\")\\\n",
    "        .option('header','true')\\\n",
    "        .load(source_dir)"
   ]
  },
  {
   "cell_type": "code",
   "execution_count": 0,
   "metadata": {
    "application/vnd.databricks.v1+cell": {
     "cellMetadata": {
      "byteLimit": 2048000,
      "rowLimit": 10000
     },
     "inputWidgets": {},
     "nuid": "9a8029a6-eb5c-4a91-bd53-7dd72410c70d",
     "showTitle": false,
     "tableResultSettingsMap": {},
     "title": ""
    },
    "id": "DxKq_Sh5T7SR",
    "outputId": "61f3276a-9d76-4df0-97d0-cef153983cc1"
   },
   "outputs": [
    {
     "output_type": "display_data",
     "data": {
      "text/html": [
       "<style scoped>\n",
       "  .table-result-container {\n",
       "    max-height: 300px;\n",
       "    overflow: auto;\n",
       "  }\n",
       "  table, th, td {\n",
       "    border: 1px solid black;\n",
       "    border-collapse: collapse;\n",
       "  }\n",
       "  th, td {\n",
       "    padding: 5px;\n",
       "  }\n",
       "  th {\n",
       "    text-align: left;\n",
       "  }\n",
       "</style><div class='table-result-container'><table class='table-result'><thead style='background-color: white'><tr><th>Country</th><th>Citizens</th><th>Year</th><th>Month</th><th>_rescued_data</th></tr></thead><tbody><tr><td>India</td><td>10</td><td>2023</td><td>November</td><td>null</td></tr><tr><td>USA</td><td>10</td><td>2023</td><td>November</td><td>null</td></tr><tr><td>China</td><td>20</td><td>2023</td><td>November</td><td>null</td></tr><tr><td>Brazil</td><td>10</td><td>2023</td><td>November</td><td>null</td></tr><tr><td>India</td><td>10</td><td>null</td><td>null</td><td>null</td></tr><tr><td>USA</td><td>5</td><td>null</td><td>null</td><td>null</td></tr><tr><td>China</td><td>10</td><td>null</td><td>null</td><td>null</td></tr><tr><td>India</td><td>10</td><td>null</td><td>null</td><td>null</td></tr><tr><td>Canada</td><td>40</td><td>null</td><td>null</td><td>null</td></tr><tr><td>Brazil</td><td>10</td><td>null</td><td>null</td><td>null</td></tr><tr><td>India</td><td>10</td><td>2023</td><td>December</td><td>null</td></tr><tr><td>USA</td><td>10</td><td>2023</td><td>December</td><td>null</td></tr><tr><td>China</td><td>20</td><td>2023</td><td>December</td><td>null</td></tr><tr><td>Brazil</td><td>10</td><td>2023</td><td>December</td><td>null</td></tr></tbody></table></div>"
      ]
     },
     "metadata": {
      "application/vnd.databricks.v1+output": {
       "addedWidgets": {},
       "aggData": [],
       "aggError": "",
       "aggOverflow": false,
       "aggSchema": [],
       "aggSeriesLimitReached": false,
       "aggType": "",
       "arguments": {},
       "columnCustomDisplayInfos": {},
       "data": [
        [
         "India",
         10,
         2023,
         "November",
         null
        ],
        [
         "USA",
         10,
         2023,
         "November",
         null
        ],
        [
         "China",
         20,
         2023,
         "November",
         null
        ],
        [
         "Brazil",
         10,
         2023,
         "November",
         null
        ],
        [
         "India",
         10,
         null,
         null,
         null
        ],
        [
         "USA",
         5,
         null,
         null,
         null
        ],
        [
         "China",
         10,
         null,
         null,
         null
        ],
        [
         "India",
         10,
         null,
         null,
         null
        ],
        [
         "Canada",
         40,
         null,
         null,
         null
        ],
        [
         "Brazil",
         10,
         null,
         null,
         null
        ],
        [
         "India",
         10,
         2023,
         "December",
         null
        ],
        [
         "USA",
         10,
         2023,
         "December",
         null
        ],
        [
         "China",
         20,
         2023,
         "December",
         null
        ],
        [
         "Brazil",
         10,
         2023,
         "December",
         null
        ]
       ],
       "datasetInfos": [],
       "dbfsResultPath": null,
       "isJsonSchema": true,
       "metadata": {
        "isDbfsCommandResult": false
       },
       "overflow": false,
       "plotOptions": {
        "customPlotOptions": {},
        "displayType": "table",
        "pivotAggregation": null,
        "pivotColumns": null,
        "xColumns": null,
        "yColumns": null
       },
       "removedWidgets": [],
       "schema": [
        {
         "metadata": "{}",
         "name": "Country",
         "type": "\"string\""
        },
        {
         "metadata": "{}",
         "name": "Citizens",
         "type": "\"long\""
        },
        {
         "metadata": "{}",
         "name": "Year",
         "type": "\"integer\""
        },
        {
         "metadata": "{}",
         "name": "Month",
         "type": "\"string\""
        },
        {
         "metadata": "{}",
         "name": "_rescued_data",
         "type": "\"string\""
        }
       ],
       "type": "table"
      }
     },
     "output_type": "display_data"
    }
   ],
   "source": [
    "display(df)\n",
    "# in first execution, it is going to fail"
   ]
  },
  {
   "cell_type": "code",
   "execution_count": 0,
   "metadata": {
    "application/vnd.databricks.v1+cell": {
     "cellMetadata": {},
     "inputWidgets": {},
     "nuid": "f1becb99-73c0-4fef-a111-f53939a28a7c",
     "showTitle": false,
     "tableResultSettingsMap": {},
     "title": ""
    },
    "id": "6uY8hzjqLB2F"
   },
   "outputs": [],
   "source": [
    "# rerun the same command again, bcs previosuly it got failed,\n",
    "# in first execution, it was going to fail\n",
    "# in second execution, it is going to evolve Schema\n",
    "display(df)\n"
   ]
  },
  {
   "cell_type": "code",
   "execution_count": 0,
   "metadata": {
    "application/vnd.databricks.v1+cell": {
     "cellMetadata": {
      "byteLimit": 2048000,
      "rowLimit": 10000
     },
     "inputWidgets": {},
     "nuid": "05e3f204-3e5c-4e96-808e-40b2bf1a184b",
     "showTitle": false,
     "tableResultSettingsMap": {},
     "title": ""
    },
    "id": "3uvY3pI4T7SS",
    "outputId": "05d25d9e-bde8-48f4-f584-2a46f55869d6"
   },
   "outputs": [
    {
     "output_type": "stream",
     "name": "stdout",
     "output_type": "stream",
     "text": [
      "Out[25]: [FileInfo(path='dbfs:/FileStore/streaming/schemaInfer/_schemas/0', name='0', size=274, modificationTime=1701879153000),\n FileInfo(path='dbfs:/FileStore/streaming/schemaInfer/_schemas/1', name='1', size=424, modificationTime=1701883002000)]"
     ]
    }
   ],
   "source": [
    "dbutils.fs.ls('dbfs:/FileStore/streaming/schemaInfer/_schemas/')\n",
    "# once it will evolve Schema, so will add one more file here in this location\n",
    "# now there are two file, name='0' and name='1', show in dbfs UI as well"
   ]
  },
  {
   "cell_type": "code",
   "execution_count": 0,
   "metadata": {
    "application/vnd.databricks.v1+cell": {
     "cellMetadata": {
      "byteLimit": 2048000,
      "implicitDf": true,
      "rowLimit": 10000
     },
     "inputWidgets": {},
     "nuid": "45a334f7-b81e-4734-ad71-137f51f49b8c",
     "showTitle": false,
     "tableResultSettingsMap": {},
     "title": ""
    },
    "id": "zqhXljJZT7SS",
    "outputId": "a9a10e7a-8f71-42dd-91c3-8c101c2f81e0"
   },
   "outputs": [
    {
     "output_type": "display_data",
     "data": {
      "text/html": [
       "<style scoped>\n",
       "  .table-result-container {\n",
       "    max-height: 300px;\n",
       "    overflow: auto;\n",
       "  }\n",
       "  table, th, td {\n",
       "    border: 1px solid black;\n",
       "    border-collapse: collapse;\n",
       "  }\n",
       "  th, td {\n",
       "    padding: 5px;\n",
       "  }\n",
       "  th {\n",
       "    text-align: left;\n",
       "  }\n",
       "</style><div class='table-result-container'><table class='table-result'><thead style='background-color: white'><tr><th>_corrupt_record</th><th>dataSchemaJson</th><th>partitionSchemaJson</th></tr></thead><tbody><tr><td>v1</td><td>null</td><td>null</td></tr><tr><td>null</td><td>{\"type\":\"struct\",\"fields\":[{\"name\":\"Country\",\"type\":\"string\",\"nullable\":true,\"metadata\":{}},{\"name\":\"Citizens\",\"type\":\"integer\",\"nullable\":true,\"metadata\":{}},{\"name\":\"Year\",\"type\":\"integer\",\"nullable\":true,\"metadata\":{}},{\"name\":\"Month\",\"type\":\"string\",\"nullable\":true,\"metadata\":{}}]}</td><td>{\"type\":\"struct\",\"fields\":[]}</td></tr></tbody></table></div>"
      ]
     },
     "metadata": {
      "application/vnd.databricks.v1+output": {
       "addedWidgets": {},
       "aggData": [],
       "aggError": "",
       "aggOverflow": false,
       "aggSchema": [],
       "aggSeriesLimitReached": false,
       "aggType": "",
       "arguments": {},
       "columnCustomDisplayInfos": {},
       "data": [
        [
         "v1",
         null,
         null
        ],
        [
         null,
         "{\"type\":\"struct\",\"fields\":[{\"name\":\"Country\",\"type\":\"string\",\"nullable\":true,\"metadata\":{}},{\"name\":\"Citizens\",\"type\":\"integer\",\"nullable\":true,\"metadata\":{}},{\"name\":\"Year\",\"type\":\"integer\",\"nullable\":true,\"metadata\":{}},{\"name\":\"Month\",\"type\":\"string\",\"nullable\":true,\"metadata\":{}}]}",
         "{\"type\":\"struct\",\"fields\":[]}"
        ]
       ],
       "datasetInfos": [],
       "dbfsResultPath": null,
       "isJsonSchema": true,
       "metadata": {},
       "overflow": false,
       "plotOptions": {
        "customPlotOptions": {},
        "displayType": "table",
        "pivotAggregation": null,
        "pivotColumns": null,
        "xColumns": null,
        "yColumns": null
       },
       "removedWidgets": [],
       "schema": [
        {
         "metadata": "{}",
         "name": "_corrupt_record",
         "type": "\"string\""
        },
        {
         "metadata": "{}",
         "name": "dataSchemaJson",
         "type": "\"string\""
        },
        {
         "metadata": "{}",
         "name": "partitionSchemaJson",
         "type": "\"string\""
        }
       ],
       "type": "table"
      }
     },
     "output_type": "display_data"
    }
   ],
   "source": [
    "%sql\n",
    "\n",
    "SELECT *\n",
    "FROM JSON.`dbfs:/FileStore/streaming/schemaInfer/_schemas/1`"
   ]
  },
  {
   "cell_type": "code",
   "execution_count": 0,
   "metadata": {
    "application/vnd.databricks.v1+cell": {
     "cellMetadata": {},
     "inputWidgets": {},
     "nuid": "bf6c7f8d-1c03-4140-a726-5615ecf1b47c",
     "showTitle": false,
     "tableResultSettingsMap": {},
     "title": ""
    },
    "id": "jBNbaThWLj6e"
   },
   "outputs": [],
   "source": [
    "# Now upload new csv file into 'dbfs:/FileStore/streaming', with name 'Countries_newcolumn2.csv'"
   ]
  },
  {
   "cell_type": "code",
   "execution_count": 0,
   "metadata": {
    "application/vnd.databricks.v1+cell": {
     "cellMetadata": {},
     "inputWidgets": {},
     "nuid": "eb2db9d4-7ff9-403e-878c-afc93ef2276f",
     "showTitle": false,
     "tableResultSettingsMap": {},
     "title": ""
    },
    "id": "xahKy0EwLvKF"
   },
   "outputs": [],
   "source": [
    "# rerun the same command again, to see more rows are displaying\n",
    "\n",
    "display(df)"
   ]
  },
  {
   "cell_type": "markdown",
   "metadata": {
    "application/vnd.databricks.v1+cell": {
     "cellMetadata": {},
     "inputWidgets": {},
     "nuid": "1844cc8a-c3a5-4f7f-958c-f338daeb5312",
     "showTitle": false,
     "tableResultSettingsMap": {},
     "title": ""
    },
    "id": "ndwLekihT7SS"
   },
   "source": [
    "\n",
    "### 03- failOnNewColumns"
   ]
  },
  {
   "cell_type": "code",
   "execution_count": 0,
   "metadata": {
    "application/vnd.databricks.v1+cell": {
     "cellMetadata": {},
     "inputWidgets": {},
     "nuid": "dcd11ffa-6fdf-49f6-8852-832e12365440",
     "showTitle": false,
     "tableResultSettingsMap": {},
     "title": ""
    },
    "id": "0_Fk2CrQM_DX"
   },
   "outputs": [],
   "source": [
    "# So this will also fail the stream and the stream does not restart unless you provide it.\n",
    "# Either the updated schema or you need to remove the file which are appending the schemas.\n",
    "# Here spark will not automatically change any of the schema.\n",
    "# You either need to update it by providing some explicit schema, or you need to provide the file that\n",
    "# is having additional fields."
   ]
  },
  {
   "cell_type": "code",
   "execution_count": 0,
   "metadata": {
    "application/vnd.databricks.v1+cell": {
     "cellMetadata": {
      "byteLimit": 2048000,
      "rowLimit": 10000
     },
     "inputWidgets": {},
     "nuid": "0bc0335d-f014-405d-a1d3-22b9c1925c35",
     "showTitle": false,
     "tableResultSettingsMap": {},
     "title": ""
    },
    "id": "lumjP1SuT7SS",
    "outputId": "02fdac32-16bd-42c1-92e8-6f434f142fbd"
   },
   "outputs": [
    {
     "output_type": "stream",
     "name": "stdout",
     "output_type": "stream",
     "text": [
      "Out[33]: [FileInfo(path='dbfs:/FileStore/streaming/schemaInfer/_schemas/0', name='0', size=274, modificationTime=1701879153000)]"
     ]
    }
   ],
   "source": [
    "dbutils.fs.ls('dbfs:/FileStore/streaming/schemaInfer/_schemas/')"
   ]
  },
  {
   "cell_type": "code",
   "execution_count": 0,
   "metadata": {
    "application/vnd.databricks.v1+cell": {
     "cellMetadata": {},
     "inputWidgets": {},
     "nuid": "155e9a36-ea73-4e04-8615-af7e78be5667",
     "showTitle": false,
     "tableResultSettingsMap": {},
     "title": ""
    },
    "id": "1oJcl_LJNfJN"
   },
   "outputs": [],
   "source": [
    "# remove two schemas\n",
    "dbutils.fs.rm('dbfs:/FileStore/streaming/schemaInfer/_schemas/1')\n",
    "dbutils.fs.rm('dbfs:/FileStore/streaming/schemaInfer/_schemas/2')"
   ]
  },
  {
   "cell_type": "code",
   "execution_count": 0,
   "metadata": {
    "application/vnd.databricks.v1+cell": {
     "cellMetadata": {},
     "inputWidgets": {},
     "nuid": "00909f40-676e-4288-a019-cd610419c667",
     "showTitle": false,
     "tableResultSettingsMap": {},
     "title": ""
    },
    "id": "-j38Ic7JNvKd"
   },
   "outputs": [],
   "source": [
    "# now we have only one schema with name='0'\n",
    "dbutils.fs.ls('dbfs:/FileStore/streaming/schemaInfer/_schemas/')"
   ]
  },
  {
   "cell_type": "code",
   "execution_count": 0,
   "metadata": {
    "application/vnd.databricks.v1+cell": {
     "cellMetadata": {
      "byteLimit": 2048000,
      "rowLimit": 10000
     },
     "inputWidgets": {},
     "nuid": "40551293-04a0-43ea-851d-171907823306",
     "showTitle": false,
     "tableResultSettingsMap": {},
     "title": ""
    },
    "id": "Slt0ap27T7SS"
   },
   "outputs": [],
   "source": [
    "df = spark.readStream\\\n",
    "        .format('cloudFiles')\\\n",
    "        .option(\"cloudFiles.format\",\"csv\")\\\n",
    "        .option(\"cloudFiles.schemaLocation\",f'{source_dir}/schemaInfer')\\\n",
    "        .option('cloudFiles.schemaEvolutionMode','failOnNewColumns')\\\n",
    "        .option(\"cloudFiles.inferColumnTypes\",\"true\")\\\n",
    "        .option('cloudFiles.schemaHints',\"Citizens LONG\")\\\n",
    "        .option('header','true')\\\n",
    "        .load(source_dir)"
   ]
  },
  {
   "cell_type": "code",
   "execution_count": 0,
   "metadata": {
    "application/vnd.databricks.v1+cell": {
     "cellMetadata": {
      "byteLimit": 2048000,
      "rowLimit": 10000
     },
     "inputWidgets": {},
     "nuid": "9d41944c-5e3d-4496-a2bf-d7332cf9a8a6",
     "showTitle": false,
     "tableResultSettingsMap": {},
     "title": ""
    },
    "id": "O6nvOFJGT7SS"
   },
   "outputs": [],
   "source": [
    "display(df)\n",
    "# ideally we should get an error"
   ]
  },
  {
   "cell_type": "code",
   "execution_count": 0,
   "metadata": {
    "application/vnd.databricks.v1+cell": {
     "cellMetadata": {},
     "inputWidgets": {},
     "nuid": "34104748-1082-4e15-b56e-ff71149090e8",
     "showTitle": false,
     "tableResultSettingsMap": {},
     "title": ""
    },
    "id": "qQo8w19KOKv9"
   },
   "outputs": [],
   "source": [
    "# Check the Schema, which means it did not evlove anything"
   ]
  },
  {
   "cell_type": "code",
   "execution_count": 0,
   "metadata": {
    "application/vnd.databricks.v1+cell": {
     "cellMetadata": {
      "byteLimit": 2048000,
      "rowLimit": 10000
     },
     "inputWidgets": {},
     "nuid": "d3ed75a6-a854-45c2-8b1c-935745fbc32f",
     "showTitle": false,
     "tableResultSettingsMap": {},
     "title": ""
    },
    "id": "h_x6Kh-wT7SS",
    "outputId": "5d775693-ea31-4237-ff00-a622d8d1d43a"
   },
   "outputs": [
    {
     "output_type": "stream",
     "name": "stdout",
     "output_type": "stream",
     "text": [
      "Out[36]: [FileInfo(path='dbfs:/FileStore/streaming/schemaInfer/_schemas/0', name='0', size=274, modificationTime=1701879153000)]"
     ]
    }
   ],
   "source": [
    "dbutils.fs.ls('dbfs:/FileStore/streaming/schemaInfer/_schemas/')"
   ]
  },
  {
   "cell_type": "code",
   "execution_count": 0,
   "metadata": {
    "application/vnd.databricks.v1+cell": {
     "cellMetadata": {},
     "inputWidgets": {},
     "nuid": "43dde1d0-1771-4b30-93ae-ebdcffda9254",
     "showTitle": false,
     "tableResultSettingsMap": {},
     "title": ""
    },
    "id": "4mYoe8I2OSLW"
   },
   "outputs": [],
   "source": [
    "# rerun the same command again, to see more rows are displaying\n",
    "\n",
    "display(df)"
   ]
  },
  {
   "cell_type": "markdown",
   "metadata": {
    "application/vnd.databricks.v1+cell": {
     "cellMetadata": {},
     "inputWidgets": {},
     "nuid": "a7f40440-cb21-4389-899e-f52f6955adfc",
     "showTitle": false,
     "tableResultSettingsMap": {},
     "title": ""
    },
    "id": "CjGejM7FT7SS"
   },
   "source": [
    "\n",
    "### None"
   ]
  },
  {
   "cell_type": "code",
   "execution_count": 0,
   "metadata": {
    "application/vnd.databricks.v1+cell": {
     "cellMetadata": {},
     "inputWidgets": {},
     "nuid": "ae402537-2974-472a-be9f-0c6df701a09b",
     "showTitle": false,
     "tableResultSettingsMap": {},
     "title": ""
    },
    "id": "UQM3KS0aOc9l"
   },
   "outputs": [],
   "source": [
    "# So let me help you with what exactly it is going to do.\n",
    "# It is going to ignore any of the new columns.\n",
    "# It will not evolve any of the schema and all the new columns will be ignored.\n",
    "# And also that data will not be rescued unless you mention some rescue data column.\n",
    "# And this will mainly do not fail the stream even though there are schema changes.\n",
    "# Whatever, there is a schema change in the incoming data, it is going to take only the data which is defined.\n",
    "# So you just need to change the schema evolution mode to none."
   ]
  },
  {
   "cell_type": "code",
   "execution_count": 0,
   "metadata": {
    "application/vnd.databricks.v1+cell": {
     "cellMetadata": {},
     "inputWidgets": {},
     "nuid": "75fb9944-730a-469d-af1f-0d00a459da0e",
     "showTitle": false,
     "tableResultSettingsMap": {},
     "title": ""
    },
    "id": "c3oU_w7MOu4E"
   },
   "outputs": [],
   "source": [
    "# Although we have the additional files which are present in this particular data.\n",
    "# You can see there are new files like countries, new column one countries new column two.\n",
    "# in location: 'dbfs:/FileStore/streaming'\n",
    "# It is just simply ignoring the additional columns in these files.\n",
    "# And it is only taking the data which it is going to need to further processing.\n",
    "# So this is how the null data type is going to ignore everything.\n",
    "# And it is going to take only the defined schema strictly."
   ]
  },
  {
   "cell_type": "code",
   "execution_count": 0,
   "metadata": {
    "application/vnd.databricks.v1+cell": {
     "cellMetadata": {
      "byteLimit": 2048000,
      "rowLimit": 10000
     },
     "inputWidgets": {},
     "nuid": "0e42ea29-5cd9-4b6d-987a-b705ede07301",
     "showTitle": false,
     "tableResultSettingsMap": {},
     "title": ""
    },
    "id": "wcoo2nOUT7SS"
   },
   "outputs": [],
   "source": [
    "df = spark.readStream\\\n",
    "        .format('cloudFiles')\\\n",
    "        .option(\"cloudFiles.format\",\"csv\")\\\n",
    "        .option(\"cloudFiles.schemaLocation\",f'{source_dir}/schemaInfer')\\\n",
    "        .option('cloudFiles.schemaEvolutionMode','none')\\\n",
    "        .option(\"cloudFiles.inferColumnTypes\",\"true\")\\\n",
    "        .option('cloudFiles.schemaHints',\"Citizens LONG\")\\\n",
    "        .option('header','true')\\\n",
    "        .load(source_dir)"
   ]
  },
  {
   "cell_type": "code",
   "execution_count": 0,
   "metadata": {
    "application/vnd.databricks.v1+cell": {
     "cellMetadata": {
      "byteLimit": 2048000,
      "rowLimit": 10000
     },
     "inputWidgets": {},
     "nuid": "6608538b-e9e9-4134-a888-44134e98673b",
     "showTitle": false,
     "tableResultSettingsMap": {},
     "title": ""
    },
    "id": "LIfu3vXkT7ST",
    "outputId": "b43d973a-8cf8-49eb-d1da-21bc29809447"
   },
   "outputs": [
    {
     "output_type": "display_data",
     "data": {
      "text/html": [
       "<style scoped>\n",
       "  .table-result-container {\n",
       "    max-height: 300px;\n",
       "    overflow: auto;\n",
       "  }\n",
       "  table, th, td {\n",
       "    border: 1px solid black;\n",
       "    border-collapse: collapse;\n",
       "  }\n",
       "  th, td {\n",
       "    padding: 5px;\n",
       "  }\n",
       "  th {\n",
       "    text-align: left;\n",
       "  }\n",
       "</style><div class='table-result-container'><table class='table-result'><thead style='background-color: white'><tr><th>Country</th><th>Citizens</th></tr></thead><tbody><tr><td>India</td><td>10</td></tr><tr><td>USA</td><td>10</td></tr><tr><td>China</td><td>20</td></tr><tr><td>Brazil</td><td>10</td></tr><tr><td>India</td><td>10</td></tr><tr><td>USA</td><td>10</td></tr><tr><td>China</td><td>20</td></tr><tr><td>Brazil</td><td>10</td></tr><tr><td>India</td><td>10</td></tr><tr><td>USA</td><td>5</td></tr><tr><td>China</td><td>10</td></tr><tr><td>India</td><td>10</td></tr><tr><td>Canada</td><td>40</td></tr><tr><td>Brazil</td><td>10</td></tr></tbody></table></div>"
      ]
     },
     "metadata": {
      "application/vnd.databricks.v1+output": {
       "addedWidgets": {},
       "aggData": [],
       "aggError": "",
       "aggOverflow": false,
       "aggSchema": [],
       "aggSeriesLimitReached": false,
       "aggType": "",
       "arguments": {},
       "columnCustomDisplayInfos": {},
       "data": [
        [
         "India",
         10
        ],
        [
         "USA",
         10
        ],
        [
         "China",
         20
        ],
        [
         "Brazil",
         10
        ],
        [
         "India",
         10
        ],
        [
         "USA",
         10
        ],
        [
         "China",
         20
        ],
        [
         "Brazil",
         10
        ],
        [
         "India",
         10
        ],
        [
         "USA",
         5
        ],
        [
         "China",
         10
        ],
        [
         "India",
         10
        ],
        [
         "Canada",
         40
        ],
        [
         "Brazil",
         10
        ]
       ],
       "datasetInfos": [],
       "dbfsResultPath": null,
       "isJsonSchema": true,
       "metadata": {
        "isDbfsCommandResult": false
       },
       "overflow": false,
       "plotOptions": {
        "customPlotOptions": {},
        "displayType": "table",
        "pivotAggregation": null,
        "pivotColumns": null,
        "xColumns": null,
        "yColumns": null
       },
       "removedWidgets": [],
       "schema": [
        {
         "metadata": "{}",
         "name": "Country",
         "type": "\"string\""
        },
        {
         "metadata": "{}",
         "name": "Citizens",
         "type": "\"long\""
        }
       ],
       "type": "table"
      }
     },
     "output_type": "display_data"
    }
   ],
   "source": [
    "display(df)"
   ]
  },
  {
   "cell_type": "code",
   "execution_count": 0,
   "metadata": {
    "application/vnd.databricks.v1+cell": {
     "cellMetadata": {},
     "inputWidgets": {},
     "nuid": "31d2f0c4-c6a2-43b9-961e-601a4e10fc04",
     "showTitle": false,
     "tableResultSettingsMap": {},
     "title": ""
    },
    "id": "2cwJqqVwT7ST"
   },
   "outputs": [],
   "source": []
  }
 ],
 "metadata": {
  "application/vnd.databricks.v1+notebook": {
   "computePreferences": null,
   "dashboards": [],
   "environmentMetadata": null,
   "language": "python",
   "notebookMetadata": {
    "mostRecentlyExecutedCommandWithImplicitDF": {
     "commandId": 922490165616199,
     "dataframes": [
      "_sqldf"
     ]
    },
    "pythonIndentUnit": 4
   },
   "notebookName": "Day_11_Autoloader+_+Schema+Evolution_Sachin",
   "widgets": {}
  },
  "colab": {
   "provenance": []
  }
 },
 "nbformat": 4,
 "nbformat_minor": 0
}
