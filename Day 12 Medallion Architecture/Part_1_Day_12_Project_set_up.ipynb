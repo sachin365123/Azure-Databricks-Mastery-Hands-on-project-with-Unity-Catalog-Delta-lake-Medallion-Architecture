{
  "nbformat": 4,
  "nbformat_minor": 0,
  "metadata": {
    "colab": {
      "provenance": []
    },
    "kernelspec": {
      "name": "python3",
      "display_name": "Python 3"
    },
    "language_info": {
      "name": "python"
    }
  },
  "cells": [
    {
      "cell_type": "markdown",
      "metadata": {
        "application/vnd.databricks.v1+cell": {
          "cellMetadata": {},
          "inputWidgets": {},
          "nuid": "0362cab9-1518-46cb-a33d-e03009b37058",
          "showTitle": false,
          "tableResultSettingsMap": {},
          "title": ""
        },
        "id": "u3RFbzdN0aRu"
      },
      "source": [
        "## Part 1: Creating bronze Tables Dynamically"
      ]
    },
    {
      "cell_type": "code",
      "execution_count": null,
      "metadata": {
        "application/vnd.databricks.v1+cell": {
          "cellMetadata": {
            "byteLimit": 2048000,
            "rowLimit": 10000
          },
          "inputWidgets": {},
          "nuid": "1d60ba85-6859-426e-8f72-224a39a6339f",
          "showTitle": false,
          "tableResultSettingsMap": {},
          "title": ""
        },
        "id": "NRPeUIjf0aRw"
      },
      "outputs": [],
      "source": [
        "bronze_path = spark.sql(\"\"\"DESCRIBE EXTERNAL LOCATION `bronze`\"\"\").select(\"url\").collect()[0][0]\n",
        "silver_path = spark.sql(\"\"\"DESCRIBE EXTERNAL LOCATION `silver`\"\"\").select(\"url\").collect()[0][0]\n",
        "gold_path = spark.sql(\"\"\"DESCRIBE EXTERNAL LOCATION `gold`\"\"\").select(\"url\").collect()[0][0]"
      ]
    },
    {
      "cell_type": "markdown",
      "source": [
        "### Insert the following line after Part 04"
      ],
      "metadata": {
        "id": "Q_yFFABQ2J-D"
      }
    },
    {
      "cell_type": "code",
      "execution_count": null,
      "metadata": {
        "application/vnd.databricks.v1+cell": {
          "cellMetadata": {},
          "inputWidgets": {},
          "nuid": "008b9471-558c-4ea5-a6d4-58e9dbdcb1e8",
          "showTitle": false,
          "tableResultSettingsMap": {},
          "title": ""
        },
        "id": "41iYqJof0aRw"
      },
      "outputs": [],
      "source": [
        "%run \"/Workspace/Users/sachinsax_gmail.com#ext#@sachinsaxgmail.onmicrosoft.com/Part 4 Common\""
      ]
    },
    {
      "cell_type": "code",
      "execution_count": null,
      "metadata": {
        "application/vnd.databricks.v1+cell": {
          "cellMetadata": {
            "byteLimit": 2048000,
            "rowLimit": 10000
          },
          "inputWidgets": {},
          "nuid": "e2b90703-bed6-47ce-a027-939d02b45511",
          "showTitle": false,
          "tableResultSettingsMap": {},
          "title": ""
        },
        "id": "kuYTzG0-0aRx"
      },
      "outputs": [],
      "source": [
        "dbutils.widgets.text(name=\"env\",defaultValue=\"\",label=\" Enter the environment in Lower case\")\n",
        "env = dbutils.widgets.get(\"env\")"
      ]
    },
    {
      "cell_type": "code",
      "execution_count": null,
      "metadata": {
        "application/vnd.databricks.v1+cell": {
          "cellMetadata": {
            "byteLimit": 2048000,
            "rowLimit": 10000
          },
          "inputWidgets": {},
          "nuid": "37159fd6-cbd0-4517-a376-7edb7d04b0bb",
          "showTitle": false,
          "tableResultSettingsMap": {},
          "title": ""
        },
        "id": "4RRvRu4Y0aRx"
      },
      "outputs": [],
      "source": [
        "def create_Bronze_Schema(environment,path):\n",
        "    print(f'Using {environment}_Catalog ')\n",
        "    spark.sql(f\"\"\" USE CATALOG '{environment}-catalog'\"\"\")\n",
        "    print(f'Creating Bronze Schema in {environment}_Catalog')\n",
        "    spark.sql(f\"\"\"CREATE SCHEMA IF NOT EXISTS `bronze` MANAGED LOCATION '{path}/bronze'\"\"\")\n",
        "    print(\"************************************\")"
      ]
    },
    {
      "cell_type": "code",
      "execution_count": null,
      "metadata": {
        "application/vnd.databricks.v1+cell": {
          "cellMetadata": {
            "byteLimit": 2048000,
            "rowLimit": 10000
          },
          "inputWidgets": {},
          "nuid": "cb9bb076-9b05-4a9c-821a-963ea4f8d8b9",
          "showTitle": false,
          "tableResultSettingsMap": {},
          "title": ""
        },
        "id": "cfU5FmdC0aRx"
      },
      "outputs": [],
      "source": [
        "def create_Silver_Schema(environment,path):\n",
        "    print(f'Using {environment}_Catalog ')\n",
        "    spark.sql(f\"\"\" USE CATALOG '{environment}-catalog'\"\"\")\n",
        "    print(f'Creating Silver Schema in {environment}_Catalog')\n",
        "    spark.sql(f\"\"\"CREATE SCHEMA IF NOT EXISTS `silver` MANAGED LOCATION '{path}/silver'\"\"\")\n",
        "    print(\"************************************\")"
      ]
    },
    {
      "cell_type": "code",
      "execution_count": null,
      "metadata": {
        "application/vnd.databricks.v1+cell": {
          "cellMetadata": {
            "byteLimit": 2048000,
            "rowLimit": 10000
          },
          "inputWidgets": {},
          "nuid": "47f16cc7-b9a2-4704-96c5-783e1762feae",
          "showTitle": false,
          "tableResultSettingsMap": {},
          "title": ""
        },
        "id": "PAQ4m_C20aRx"
      },
      "outputs": [],
      "source": [
        "def create_Gold_Schema(environment,path):\n",
        "    print(f'Using {environment}_Catalog ')\n",
        "    spark.sql(f\"\"\" USE CATALOG '{environment}-catalog'\"\"\")\n",
        "    print(f'Creating Gold Schema in {environment}_Catalog')\n",
        "    spark.sql(f\"\"\"CREATE SCHEMA IF NOT EXISTS `gold` MANAGED LOCATION '{path}/gold'\"\"\")\n",
        "    print(\"************************************\")"
      ]
    },
    {
      "cell_type": "code",
      "execution_count": null,
      "metadata": {
        "application/vnd.databricks.v1+cell": {
          "cellMetadata": {
            "byteLimit": 2048000,
            "rowLimit": 10000
          },
          "inputWidgets": {},
          "nuid": "aee0758e-3917-43f2-960c-6585e93c6a7d",
          "showTitle": false,
          "tableResultSettingsMap": {},
          "title": ""
        },
        "id": "LwxCZbSk0aRy",
        "outputId": "66efe7eb-f181-44c2-ab2e-564a0daa147b"
      },
      "outputs": [
        {
          "output_type": "stream",
          "name": "stdout",
          "text": [
            "Using dev_Catalog \nCreating Bronze Schema in dev_Catalog\n************************************\n"
          ]
        }
      ],
      "source": [
        "create_Bronze_Schema(env,bronze_path)"
      ]
    },
    {
      "cell_type": "code",
      "execution_count": null,
      "metadata": {
        "application/vnd.databricks.v1+cell": {
          "cellMetadata": {
            "byteLimit": 2048000,
            "rowLimit": 10000
          },
          "inputWidgets": {},
          "nuid": "5adf75d0-9c46-4bd2-ba98-4f2a58157f9b",
          "showTitle": false,
          "tableResultSettingsMap": {},
          "title": ""
        },
        "id": "uiZGAzpV0aRy",
        "outputId": "ac9b17b6-69d9-4e9b-d137-8019695e613a"
      },
      "outputs": [
        {
          "output_type": "stream",
          "name": "stdout",
          "text": [
            "Using dev_Catalog \nCreating Silver Schema in dev_Catalog\n************************************\n"
          ]
        }
      ],
      "source": [
        "create_Silver_Schema(env,silver_path)"
      ]
    },
    {
      "cell_type": "code",
      "execution_count": null,
      "metadata": {
        "application/vnd.databricks.v1+cell": {
          "cellMetadata": {
            "byteLimit": 2048000,
            "rowLimit": 10000
          },
          "inputWidgets": {},
          "nuid": "78997d07-9d89-43a9-885d-65b0c5792654",
          "showTitle": false,
          "tableResultSettingsMap": {},
          "title": ""
        },
        "id": "5RrD_ZKW0aRz",
        "outputId": "f1c8c649-57c1-43c4-a5d6-8376a3b19d8c"
      },
      "outputs": [
        {
          "output_type": "stream",
          "name": "stdout",
          "text": [
            "Using dev_Catalog \nCreating Gold Schema in dev_Catalog\n************************************\n"
          ]
        }
      ],
      "source": [
        "create_Gold_Schema(env,gold_path)"
      ]
    },
    {
      "cell_type": "code",
      "execution_count": null,
      "metadata": {
        "application/vnd.databricks.v1+cell": {
          "cellMetadata": {
            "byteLimit": 2048000,
            "rowLimit": 10000
          },
          "inputWidgets": {},
          "nuid": "caa7b904-a4a7-4ab5-b89c-bad87cc67416",
          "showTitle": false,
          "tableResultSettingsMap": {},
          "title": ""
        },
        "id": "Hp-9NUh30aR0"
      },
      "outputs": [],
      "source": [
        "def createTable_rawTraffic(environment):\n",
        "    print(f'Creating raw_Traffic table in {environment}-catalog')\n",
        "    spark.sql(f\"\"\"CREATE TABLE IF NOT EXISTS `{environment}-catalog`.`bronze`.`raw_traffic`\n",
        "                        (\n",
        "                            Record_ID INT,\n",
        "                            Count_point_id INT,\n",
        "                            Direction_of_travel VARCHAR(255),\n",
        "                            Year INT,\n",
        "                            Count_date VARCHAR(255),\n",
        "                            hour INT,\n",
        "                            Region_id INT,\n",
        "                            Region_name VARCHAR(255),\n",
        "                            Local_authority_name VARCHAR(255),\n",
        "                            Road_name VARCHAR(255),\n",
        "                            Road_Category_ID INT,\n",
        "                            Start_junction_road_name VARCHAR(255),\n",
        "                            End_junction_road_name VARCHAR(255),\n",
        "                            Latitude DOUBLE,\n",
        "                            Longitude DOUBLE,\n",
        "                            Link_length_km DOUBLE,\n",
        "                            Pedal_cycles INT,\n",
        "                            Two_wheeled_motor_vehicles INT,\n",
        "                            Cars_and_taxis INT,\n",
        "                            Buses_and_coaches INT,\n",
        "                            LGV_Type INT,\n",
        "                            HGV_Type INT,\n",
        "                            EV_Car INT,\n",
        "                            EV_Bike INT,\n",
        "                            Extract_Time TIMESTAMP\n",
        "                    );\"\"\")\n",
        "\n",
        "    print(\"************************************\")"
      ]
    },
    {
      "cell_type": "code",
      "execution_count": null,
      "metadata": {
        "application/vnd.databricks.v1+cell": {
          "cellMetadata": {
            "byteLimit": 2048000,
            "rowLimit": 10000
          },
          "inputWidgets": {},
          "nuid": "c65999c9-abd0-433d-a380-b1f14cbe55ad",
          "showTitle": false,
          "tableResultSettingsMap": {},
          "title": ""
        },
        "id": "RF28MvaE0aR1"
      },
      "outputs": [],
      "source": [
        "def createTable_rawRoad(environment):\n",
        "    print(f'Creating raw_roads table in {environment}-catalog')\n",
        "    spark.sql(f\"\"\"CREATE TABLE IF NOT EXISTS `{environment}-catalog`.`bronze`.`raw_roads`\n",
        "                        (\n",
        "                            Road_ID INT,\n",
        "                            Road_Category_Id INT,\n",
        "                            Road_Category VARCHAR(255),\n",
        "                            Region_ID INT,\n",
        "                            Region_Name VARCHAR(255),\n",
        "                            Total_Link_Length_Km DOUBLE,\n",
        "                            Total_Link_Length_Miles DOUBLE,\n",
        "                            All_Motor_Vehicles DOUBLE\n",
        "                    );\"\"\")\n",
        "\n",
        "    print(\"************************************\")"
      ]
    },
    {
      "cell_type": "code",
      "execution_count": null,
      "metadata": {
        "application/vnd.databricks.v1+cell": {
          "cellMetadata": {
            "byteLimit": 2048000,
            "rowLimit": 10000
          },
          "inputWidgets": {},
          "nuid": "3d56102a-a13e-4172-ac15-e88385d60a78",
          "showTitle": false,
          "tableResultSettingsMap": {},
          "title": ""
        },
        "id": "FuNpg0O10aR1",
        "outputId": "574281e6-5b31-4aa5-dfa0-81a47caf29af"
      },
      "outputs": [
        {
          "output_type": "stream",
          "name": "stdout",
          "text": [
            "Using dev_Catalog \nCreating Bronze Schema in dev_Catalog\n************************************\nCreating raw_Traffic table in dev-catalog\n************************************\nCreating raw_roads table in dev-catalog\n************************************\nUsing dev_Catalog \nCreating Silver Schema in dev_Catalog\n************************************\nUsing dev_Catalog \nCreating Gold Schema in dev_Catalog\n************************************\n"
          ]
        }
      ],
      "source": [
        "create_Bronze_Schema(env,bronze_path)\n",
        "createTable_rawTraffic(env)\n",
        "createTable_rawRoad(env)\n",
        "\n",
        "\n",
        "create_Silver_Schema(env,silver_path)\n",
        "create_Gold_Schema(env,gold_path)"
      ]
    }
  ]
}