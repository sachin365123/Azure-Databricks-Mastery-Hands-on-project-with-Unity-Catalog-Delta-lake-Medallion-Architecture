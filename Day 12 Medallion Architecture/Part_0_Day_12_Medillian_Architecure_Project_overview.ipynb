{
  "cells": [
    {
      "cell_type": "code",
      "execution_count": null,
      "metadata": {
        "application/vnd.databricks.v1+cell": {
          "cellMetadata": {
            "byteLimit": 2048000,
            "implicitDf": true,
            "rowLimit": 10000
          },
          "inputWidgets": {},
          "nuid": "4faef911-06f8-41f2-a3b4-c7e77458358d",
          "showTitle": false,
          "tableResultSettingsMap": {},
          "title": ""
        },
        "id": "ANY47Itg0aRj",
        "outputId": "42dffd4a-f5d0-4e4a-e4f5-08193c3a46f2"
      },
      "outputs": [
        {
          "output_type": "display_data",
          "data": {
            "text/html": [
              "<style scoped>\n",
              "  .table-result-container {\n",
              "    max-height: 300px;\n",
              "    overflow: auto;\n",
              "  }\n",
              "  table, th, td {\n",
              "    border: 1px solid black;\n",
              "    border-collapse: collapse;\n",
              "  }\n",
              "  th, td {\n",
              "    padding: 5px;\n",
              "  }\n",
              "  th {\n",
              "    text-align: left;\n",
              "  }\n",
              "</style><div class='table-result-container'><table class='table-result'><thead style='background-color: white'><tr><th>info_name</th><th>info_value</th></tr></thead><tbody><tr><td>Catalog Name</td><td>dev-catalog</td></tr><tr><td>Comment</td><td></td></tr><tr><td>Owner</td><td>sachinsax_gmail.com#ext#@sachinsaxgmail.onmicrosoft.com</td></tr><tr><td>Catalog Type</td><td>Regular</td></tr></tbody></table></div>"
            ]
          },
          "metadata": {
            "application/vnd.databricks.v1+output": {
              "addedWidgets": {},
              "aggData": [],
              "aggError": "",
              "aggOverflow": false,
              "aggSchema": [],
              "aggSeriesLimitReached": false,
              "aggType": "",
              "arguments": {},
              "columnCustomDisplayInfos": {},
              "data": [
                [
                  "Catalog Name",
                  "dev-catalog"
                ],
                [
                  "Comment",
                  ""
                ],
                [
                  "Owner",
                  "sachinsax_gmail.com#ext#@sachinsaxgmail.onmicrosoft.com"
                ],
                [
                  "Catalog Type",
                  "Regular"
                ]
              ],
              "datasetInfos": [],
              "dbfsResultPath": null,
              "isJsonSchema": true,
              "metadata": {
                "createTempViewForImplicitDf": true,
                "dataframeName": "_sqldf",
                "executionCount": 1
              },
              "overflow": false,
              "plotOptions": {
                "customPlotOptions": {},
                "displayType": "table",
                "pivotAggregation": null,
                "pivotColumns": null,
                "xColumns": null,
                "yColumns": null
              },
              "removedWidgets": [],
              "schema": [
                {
                  "metadata": "{\"comment\":\"name of the catalog info\"}",
                  "name": "info_name",
                  "type": "\"string\""
                },
                {
                  "metadata": "{\"comment\":\"value of the catalog info\"}",
                  "name": "info_value",
                  "type": "\"string\""
                }
              ],
              "type": "table"
            }
          }
        }
      ],
      "source": [
        "%sql\n",
        "DESCRIBE CATALOG `dev-catalog`;"
      ]
    },
    {
      "cell_type": "code",
      "execution_count": null,
      "metadata": {
        "application/vnd.databricks.v1+cell": {
          "cellMetadata": {
            "byteLimit": 2048000,
            "rowLimit": 10000
          },
          "inputWidgets": {},
          "nuid": "c327e35f-c6ac-46d1-9e77-b00c941745c6",
          "showTitle": false,
          "tableResultSettingsMap": {},
          "title": ""
        },
        "id": "SP2eF9wp0aRm",
        "outputId": "ba58892f-2cd0-40c1-8019-276d1e045e0e"
      },
      "outputs": [
        {
          "output_type": "execute_result",
          "data": {
            "text/plain": [
              "DataFrame[]"
            ]
          },
          "execution_count": 2,
          "metadata": {}
        }
      ],
      "source": [
        "spark.sql(\"\"\"USE CATALOG `dev-catalog`\"\"\")"
      ]
    },
    {
      "cell_type": "code",
      "execution_count": null,
      "metadata": {
        "application/vnd.databricks.v1+cell": {
          "cellMetadata": {
            "byteLimit": 2048000,
            "implicitDf": true,
            "rowLimit": 10000
          },
          "inputWidgets": {},
          "nuid": "da77ad16-6a1d-45c2-b669-8365cfe77597",
          "showTitle": false,
          "tableResultSettingsMap": {},
          "title": ""
        },
        "id": "bYN5VCgX0aRn",
        "outputId": "1f94fadc-5dbf-4885-afe5-c3a726f82634"
      },
      "outputs": [
        {
          "output_type": "display_data",
          "data": {
            "text/html": [
              "<style scoped>\n",
              "  .table-result-container {\n",
              "    max-height: 300px;\n",
              "    overflow: auto;\n",
              "  }\n",
              "  table, th, td {\n",
              "    border: 1px solid black;\n",
              "    border-collapse: collapse;\n",
              "  }\n",
              "  th, td {\n",
              "    padding: 5px;\n",
              "  }\n",
              "  th {\n",
              "    text-align: left;\n",
              "  }\n",
              "</style><div class='table-result-container'><table class='table-result'><thead style='background-color: white'><tr><th>current_metastore()</th></tr></thead><tbody><tr><td>azure:eastus:50acce50-2335-4ca3-9327-b6dbbfed2c2d</td></tr></tbody></table></div>"
            ]
          },
          "metadata": {
            "application/vnd.databricks.v1+output": {
              "addedWidgets": {},
              "aggData": [],
              "aggError": "",
              "aggOverflow": false,
              "aggSchema": [],
              "aggSeriesLimitReached": false,
              "aggType": "",
              "arguments": {},
              "columnCustomDisplayInfos": {},
              "data": [
                [
                  "azure:eastus:50acce50-2335-4ca3-9327-b6dbbfed2c2d"
                ]
              ],
              "datasetInfos": [],
              "dbfsResultPath": null,
              "isJsonSchema": true,
              "metadata": {
                "createTempViewForImplicitDf": true,
                "dataframeName": "_sqldf",
                "executionCount": 3
              },
              "overflow": false,
              "plotOptions": {
                "customPlotOptions": {},
                "displayType": "table",
                "pivotAggregation": null,
                "pivotColumns": null,
                "xColumns": null,
                "yColumns": null
              },
              "removedWidgets": [],
              "schema": [
                {
                  "metadata": "{\"__autoGeneratedAlias\":\"true\"}",
                  "name": "current_metastore()",
                  "type": "\"string\""
                }
              ],
              "type": "table"
            }
          }
        }
      ],
      "source": [
        "%sql\n",
        "SELECT CURRENT_METASTORE();"
      ]
    },
    {
      "cell_type": "code",
      "execution_count": null,
      "metadata": {
        "application/vnd.databricks.v1+cell": {
          "cellMetadata": {
            "byteLimit": 2048000,
            "implicitDf": true,
            "rowLimit": 10000
          },
          "inputWidgets": {},
          "nuid": "9baf4b4c-a089-4240-bf3e-0d2841f41091",
          "showTitle": false,
          "tableResultSettingsMap": {},
          "title": ""
        },
        "id": "mGrIjP_20aRo",
        "outputId": "6cf0b597-ee28-4a69-e3ef-b57556b36a05"
      },
      "outputs": [
        {
          "output_type": "display_data",
          "data": {
            "text/html": [
              "<style scoped>\n",
              "  .table-result-container {\n",
              "    max-height: 300px;\n",
              "    overflow: auto;\n",
              "  }\n",
              "  table, th, td {\n",
              "    border: 1px solid black;\n",
              "    border-collapse: collapse;\n",
              "  }\n",
              "  th, td {\n",
              "    padding: 5px;\n",
              "  }\n",
              "  th {\n",
              "    text-align: left;\n",
              "  }\n",
              "</style><div class='table-result-container'><table class='table-result'><thead style='background-color: white'><tr></tr></thead><tbody></tbody></table></div>"
            ]
          },
          "metadata": {
            "application/vnd.databricks.v1+output": {
              "addedWidgets": {},
              "aggData": [],
              "aggError": "",
              "aggOverflow": false,
              "aggSchema": [],
              "aggSeriesLimitReached": false,
              "aggType": "",
              "arguments": {},
              "columnCustomDisplayInfos": {},
              "data": [],
              "datasetInfos": [],
              "dbfsResultPath": null,
              "isJsonSchema": true,
              "metadata": {
                "dataframeName": null
              },
              "overflow": false,
              "plotOptions": {
                "customPlotOptions": {},
                "displayType": "table",
                "pivotAggregation": null,
                "pivotColumns": null,
                "xColumns": null,
                "yColumns": null
              },
              "removedWidgets": [],
              "schema": [],
              "type": "table"
            }
          }
        }
      ],
      "source": [
        "%sql\n",
        "create schema if not exists `silver`"
      ]
    },
    {
      "cell_type": "code",
      "execution_count": null,
      "metadata": {
        "application/vnd.databricks.v1+cell": {
          "cellMetadata": {
            "byteLimit": 2048000,
            "implicitDf": true,
            "rowLimit": 10000
          },
          "inputWidgets": {},
          "nuid": "04bab8fe-d0c6-47c4-b74a-2e01c7201f66",
          "showTitle": false,
          "tableResultSettingsMap": {},
          "title": ""
        },
        "id": "BJ1cYpXA0aRo",
        "outputId": "ea6c9d83-1cde-4922-9416-5ee8f6400d60"
      },
      "outputs": [
        {
          "output_type": "display_data",
          "data": {
            "text/html": [
              "<style scoped>\n",
              "  .table-result-container {\n",
              "    max-height: 300px;\n",
              "    overflow: auto;\n",
              "  }\n",
              "  table, th, td {\n",
              "    border: 1px solid black;\n",
              "    border-collapse: collapse;\n",
              "  }\n",
              "  th, td {\n",
              "    padding: 5px;\n",
              "  }\n",
              "  th {\n",
              "    text-align: left;\n",
              "  }\n",
              "</style><div class='table-result-container'><table class='table-result'><thead style='background-color: white'><tr></tr></thead><tbody></tbody></table></div>"
            ]
          },
          "metadata": {
            "application/vnd.databricks.v1+output": {
              "addedWidgets": {},
              "aggData": [],
              "aggError": "",
              "aggOverflow": false,
              "aggSchema": [],
              "aggSeriesLimitReached": false,
              "aggType": "",
              "arguments": {},
              "columnCustomDisplayInfos": {},
              "data": [],
              "datasetInfos": [],
              "dbfsResultPath": null,
              "isJsonSchema": true,
              "metadata": {
                "dataframeName": null
              },
              "overflow": false,
              "plotOptions": {
                "customPlotOptions": {},
                "displayType": "table",
                "pivotAggregation": null,
                "pivotColumns": null,
                "xColumns": null,
                "yColumns": null
              },
              "removedWidgets": [],
              "schema": [],
              "type": "table"
            }
          }
        }
      ],
      "source": [
        "%sql\n",
        "create schema if not exists `gold`\n",
        "managed location 'abfss://landing@databricksdevstg123.dfs.core.windows.net/landing'\n",
        "-- this will create schema at abfss://landing@dbstoragesachin.dfs.core.windows.net/landing\n",
        "-- check in catalog UI as well"
      ]
    },
    {
      "cell_type": "code",
      "execution_count": null,
      "metadata": {
        "application/vnd.databricks.v1+cell": {
          "cellMetadata": {
            "byteLimit": 2048000,
            "implicitDf": true,
            "rowLimit": 10000
          },
          "inputWidgets": {},
          "nuid": "b62baa03-8b12-4db3-bb8c-b98df58e4d91",
          "showTitle": false,
          "tableResultSettingsMap": {},
          "title": ""
        },
        "id": "6158xp7V0aRp",
        "outputId": "a4b24556-4f91-4abd-fbd8-ed1ef1ad9e1c"
      },
      "outputs": [
        {
          "output_type": "display_data",
          "data": {
            "text/html": [
              "<style scoped>\n",
              "  .table-result-container {\n",
              "    max-height: 300px;\n",
              "    overflow: auto;\n",
              "  }\n",
              "  table, th, td {\n",
              "    border: 1px solid black;\n",
              "    border-collapse: collapse;\n",
              "  }\n",
              "  th, td {\n",
              "    padding: 5px;\n",
              "  }\n",
              "  th {\n",
              "    text-align: left;\n",
              "  }\n",
              "</style><div class='table-result-container'><table class='table-result'><thead style='background-color: white'><tr><th>name</th><th>url</th><th>credential_name</th><th>owner</th><th>created_by</th><th>created_at</th><th>comment</th></tr></thead><tbody><tr><td>landing</td><td>abfss://landing@databricksdevstg123.dfs.core.windows.net/</td><td>50acce50-2335-4ca3-9327-b6dbbfed2c2d-storage-credential-1735219246140</td><td>sachinsax_gmail.com#ext#@sachinsaxgmail.onmicrosoft.com</td><td>sachinsax_gmail.com#ext#@sachinsaxgmail.onmicrosoft.com</td><td>2024-12-26T13:27:53.082Z</td><td></td></tr></tbody></table></div>"
            ]
          },
          "metadata": {
            "application/vnd.databricks.v1+output": {
              "addedWidgets": {},
              "aggData": [],
              "aggError": "",
              "aggOverflow": false,
              "aggSchema": [],
              "aggSeriesLimitReached": false,
              "aggType": "",
              "arguments": {},
              "columnCustomDisplayInfos": {},
              "data": [
                [
                  "landing",
                  "abfss://landing@databricksdevstg123.dfs.core.windows.net/",
                  "50acce50-2335-4ca3-9327-b6dbbfed2c2d-storage-credential-1735219246140",
                  "sachinsax_gmail.com#ext#@sachinsaxgmail.onmicrosoft.com",
                  "sachinsax_gmail.com#ext#@sachinsaxgmail.onmicrosoft.com",
                  "2024-12-26T13:27:53.082Z",
                  ""
                ]
              ],
              "datasetInfos": [],
              "dbfsResultPath": null,
              "isJsonSchema": true,
              "metadata": {
                "createTempViewForImplicitDf": true,
                "dataframeName": "_sqldf",
                "executionCount": 4
              },
              "overflow": false,
              "plotOptions": {
                "customPlotOptions": {},
                "displayType": "table",
                "pivotAggregation": null,
                "pivotColumns": null,
                "xColumns": null,
                "yColumns": null
              },
              "removedWidgets": [],
              "schema": [
                {
                  "metadata": "{}",
                  "name": "name",
                  "type": "\"string\""
                },
                {
                  "metadata": "{}",
                  "name": "url",
                  "type": "\"string\""
                },
                {
                  "metadata": "{}",
                  "name": "credential_name",
                  "type": "\"string\""
                },
                {
                  "metadata": "{}",
                  "name": "owner",
                  "type": "\"string\""
                },
                {
                  "metadata": "{}",
                  "name": "created_by",
                  "type": "\"string\""
                },
                {
                  "metadata": "{}",
                  "name": "created_at",
                  "type": "\"timestamp\""
                },
                {
                  "metadata": "{}",
                  "name": "comment",
                  "type": "\"string\""
                }
              ],
              "type": "table"
            }
          }
        }
      ],
      "source": [
        "%sql\n",
        "DESCRIBE EXTERNAL LOCATION `landing`"
      ]
    },
    {
      "cell_type": "code",
      "execution_count": null,
      "metadata": {
        "application/vnd.databricks.v1+cell": {
          "cellMetadata": {
            "byteLimit": 2048000,
            "rowLimit": 10000
          },
          "inputWidgets": {},
          "nuid": "200ff1fc-f5a4-42a8-bfe3-bbee2748ed23",
          "showTitle": false,
          "tableResultSettingsMap": {},
          "title": ""
        },
        "id": "FeZega8C0aRq",
        "outputId": "215d1292-723b-4fd5-c4a8-e93834a5bd33"
      },
      "outputs": [
        {
          "output_type": "stream",
          "name": "stdout",
          "text": [
            "abfss://landing@databricksdevstg123.dfs.core.windows.net/\n"
          ]
        }
      ],
      "source": [
        "landing_path = spark.sql(\"\"\"DESCRIBE EXTERNAL LOCATION `landing`\"\"\").select(\"url\").collect()[0][0]\n",
        "# to extract url only from previous cell code, we have this one comman\n",
        "print(landing_path)"
      ]
    },
    {
      "cell_type": "code",
      "execution_count": null,
      "metadata": {
        "application/vnd.databricks.v1+cell": {
          "cellMetadata": {
            "byteLimit": 2048000,
            "rowLimit": 10000
          },
          "inputWidgets": {},
          "nuid": "8fa1e936-45b7-4c46-8257-6b2e4307ca75",
          "showTitle": false,
          "tableResultSettingsMap": {},
          "title": ""
        },
        "id": "nBGGF4AM0aRq",
        "outputId": "7ea5148f-0cac-4c74-aee9-973c53d9c8e8"
      },
      "outputs": [
        {
          "output_type": "execute_result",
          "data": {
            "text/plain": [
              "DataFrame[]"
            ]
          },
          "execution_count": 9,
          "metadata": {}
        }
      ],
      "source": [
        "spark.sql(f\"\"\"create schema if not exists `test_gold_not_actual333` managed location '{landing_path}/test_loc2'\"\"\")"
      ]
    },
    {
      "cell_type": "code",
      "execution_count": null,
      "metadata": {
        "application/vnd.databricks.v1+cell": {
          "cellMetadata": {
            "byteLimit": 2048000,
            "rowLimit": 10000
          },
          "inputWidgets": {},
          "nuid": "52ad106f-9e3b-4036-a125-9b8642435ecf",
          "showTitle": false,
          "tableResultSettingsMap": {},
          "title": ""
        },
        "id": "5A7LKmsz0aRr"
      },
      "outputs": [],
      "source": [
        "dbutils.widgets.text(name=\"env\",defaultValue=\"\",label=\" Enter the environment in lower case\")\n",
        "env = dbutils.widgets.get(\"env\")"
      ]
    },
    {
      "cell_type": "code",
      "execution_count": null,
      "metadata": {
        "application/vnd.databricks.v1+cell": {
          "cellMetadata": {
            "byteLimit": 2048000,
            "rowLimit": 10000
          },
          "inputWidgets": {},
          "nuid": "9918ac27-4628-46f8-8ef7-f8dc3739695f",
          "showTitle": false,
          "tableResultSettingsMap": {},
          "title": ""
        },
        "id": "g5MPgimc0aRr"
      },
      "outputs": [],
      "source": [
        "landing_path2 = spark.sql(\"\"\"DESCRIBE EXTERNAL LOCATION `landing`\"\"\").select(\"url\").collect()[0][0]"
      ]
    },
    {
      "cell_type": "code",
      "execution_count": null,
      "metadata": {
        "application/vnd.databricks.v1+cell": {
          "cellMetadata": {
            "byteLimit": 2048000,
            "rowLimit": 10000
          },
          "inputWidgets": {},
          "nuid": "ca466797-8d72-4bbc-a9c4-274e1cc4c789",
          "showTitle": false,
          "tableResultSettingsMap": {},
          "title": ""
        },
        "id": "j99me9on0aRs",
        "outputId": "33ccee5b-477c-4c55-8470-ebcbae6594e4"
      },
      "outputs": [
        {
          "output_type": "stream",
          "name": "stdout",
          "text": [
            "abfss://landing@databricksdevstg123.dfs.core.windows.net/\n"
          ]
        }
      ],
      "source": [
        "print(landing_path2)"
      ]
    },
    {
      "cell_type": "code",
      "execution_count": null,
      "metadata": {
        "application/vnd.databricks.v1+cell": {
          "cellMetadata": {
            "byteLimit": 2048000,
            "rowLimit": 10000
          },
          "inputWidgets": {},
          "nuid": "dbc72f08-00d3-4495-94da-77cf7155b9e9",
          "showTitle": false,
          "tableResultSettingsMap": {},
          "title": ""
        },
        "id": "eWNOdHm90aRs"
      },
      "outputs": [],
      "source": [
        "def create_landing_Schema(environment,path):\n",
        "    print(f'Using {environment}_Catalog ')\n",
        "    spark.sql(f\"\"\" USE CATALOG '{environment}-catalog'\"\"\")\n",
        "    print(f'Creating Bronze Schema in {environment}_Catalog')\n",
        "    spark.sql(f\"\"\"CREATE SCHEMA IF NOT EXISTS `Sachin_bronze` MANAGED LOCATION '{path}/bronze'\"\"\")\n",
        "    print(\"************************************\")"
      ]
    },
    {
      "cell_type": "code",
      "execution_count": null,
      "metadata": {
        "application/vnd.databricks.v1+cell": {
          "cellMetadata": {
            "byteLimit": 2048000,
            "rowLimit": 10000
          },
          "inputWidgets": {},
          "nuid": "21247d65-31a4-4ce1-914d-ddc4dd9207de",
          "showTitle": false,
          "tableResultSettingsMap": {},
          "title": ""
        },
        "id": "ycZaSVyo0aRt",
        "outputId": "b5f20074-4ced-4787-9255-dd8e22a70608"
      },
      "outputs": [
        {
          "output_type": "stream",
          "name": "stdout",
          "text": [
            "Using dev_Catalog \nCreating Bronze Schema in dev_Catalog\n************************************\n"
          ]
        }
      ],
      "source": [
        "create_landing_Schema(env,landing_path2)\n",
        "\n",
        "# this will give output\n",
        "# Using dev_Catalog\n",
        "# Creating Bronze Schema in dev_Catalog\n",
        "# ************************************"
      ]
    },
    {
      "cell_type": "code",
      "execution_count": null,
      "metadata": {
        "application/vnd.databricks.v1+cell": {
          "cellMetadata": {
            "byteLimit": 2048000,
            "rowLimit": 10000
          },
          "inputWidgets": {},
          "nuid": "2246842e-7d04-4260-8a61-9adc8ab6bb47",
          "showTitle": false,
          "tableResultSettingsMap": {},
          "title": ""
        },
        "id": "rQQgH0QM0aRt"
      },
      "outputs": [],
      "source": [
        "def createTable_rawTraffic(environment):\n",
        "    print(f'Creating raw_Traffic table in {environment}-catalog')\n",
        "    spark.sql(f\"\"\"CREATE TABLE IF NOT EXISTS `{environment}-catalog`.`bronze`.`raw_traffic`\n",
        "                        (\n",
        "                            Record_ID INT,\n",
        "                            Count_point_id INT,\n",
        "                            Direction_of_travel VARCHAR(255),\n",
        "                            Year INT,\n",
        "                            Count_date VARCHAR(255),\n",
        "                            hour INT,\n",
        "                            Region_id INT,\n",
        "                            Region_name VARCHAR(255),\n",
        "                            Local_authority_name VARCHAR(255),\n",
        "                            Road_name VARCHAR(255),\n",
        "                            Road_Category_ID INT,\n",
        "                            Start_junction_road_name VARCHAR(255),\n",
        "                            End_junction_road_name VARCHAR(255),\n",
        "                            Latitude DOUBLE,\n",
        "                            Longitude DOUBLE,\n",
        "                            Link_length_km DOUBLE,\n",
        "                            Pedal_cycles INT,\n",
        "                            Two_wheeled_motor_vehicles INT,\n",
        "                            Cars_and_taxis INT,\n",
        "                            Buses_and_coaches INT,\n",
        "                            LGV_Type INT,\n",
        "                            HGV_Type INT,\n",
        "                            EV_Car INT,\n",
        "                            EV_Bike INT,\n",
        "                            Extract_Time TIMESTAMP\n",
        "                    );\"\"\")\n",
        "\n",
        "    print(\"************************************\")"
      ]
    },
    {
      "cell_type": "code",
      "execution_count": null,
      "metadata": {
        "application/vnd.databricks.v1+cell": {
          "cellMetadata": {
            "byteLimit": 2048000,
            "rowLimit": 10000
          },
          "inputWidgets": {},
          "nuid": "6b743f42-63f3-463c-8040-2bc19e414058",
          "showTitle": false,
          "tableResultSettingsMap": {},
          "title": ""
        },
        "id": "4AHPWhB10aRu"
      },
      "outputs": [],
      "source": [
        "def createTable_rawRoad(environment):\n",
        "    print(f'Creating raw_roads table in {environment}-catalog')\n",
        "    spark.sql(f\"\"\"CREATE TABLE IF NOT EXISTS `{environment}-catalog`.`bronze`.`raw_roads`\n",
        "                        (\n",
        "                            Road_ID INT,\n",
        "                            Road_Category_Id INT,\n",
        "                            Road_Category VARCHAR(255),\n",
        "                            Region_ID INT,\n",
        "                            Region_Name VARCHAR(255),\n",
        "                            Total_Link_Length_Km DOUBLE,\n",
        "                            Total_Link_Length_Miles DOUBLE,\n",
        "                            All_Motor_Vehicles DOUBLE\n",
        "                    );\"\"\")\n",
        "\n",
        "    print(\"************************************\")"
      ]
    },
    {
      "cell_type": "code",
      "execution_count": null,
      "metadata": {
        "application/vnd.databricks.v1+cell": {
          "cellMetadata": {
            "byteLimit": 2048000,
            "rowLimit": 10000
          },
          "inputWidgets": {},
          "nuid": "3aa48844-e3b9-4a77-a6b6-e4492f859434",
          "showTitle": false,
          "tableResultSettingsMap": {},
          "title": ""
        },
        "id": "J5n4NYtb0aRu",
        "outputId": "012b2ca5-9fd2-4d6f-b7e5-8533a7a45662"
      },
      "outputs": [
        {
          "output_type": "stream",
          "name": "stdout",
          "text": [
            "Using dev_Catalog \nCreating Bronze Schema in dev_Catalog\n************************************\nCreating raw_Traffic table in dev-catalog\n************************************\nCreating raw_roads table in dev-catalog\n************************************\n"
          ]
        }
      ],
      "source": [
        "create_landing_Schema(env,landing_path2)\n",
        "createTable_rawTraffic(env)\n",
        "createTable_rawRoad(env)"
      ]
    },
    {
      "cell_type": "markdown",
      "source": [
        "### Part 0 End here"
      ],
      "metadata": {
        "id": "UXZoImMN1fal"
      }
    },
    {
      "cell_type": "code",
      "execution_count": null,
      "metadata": {
        "application/vnd.databricks.v1+cell": {
          "cellMetadata": {},
          "inputWidgets": {},
          "nuid": "332c6334-8ea9-4e15-b28a-6494da25f21c",
          "showTitle": false,
          "tableResultSettingsMap": {},
          "title": ""
        },
        "id": "FzNs9J0j0aSr"
      },
      "outputs": [],
      "source": []
    }
  ],
  "metadata": {
    "application/vnd.databricks.v1+notebook": {
      "computePreferences": null,
      "dashboards": [],
      "environmentMetadata": {
        "base_environment": "",
        "client": "1"
      },
      "language": "python",
      "notebookMetadata": {
        "mostRecentlyExecutedCommandWithImplicitDF": {
          "commandId": 1009170521908780,
          "dataframes": [
            "_sqldf"
          ]
        },
        "pythonIndentUnit": 4
      },
      "notebookName": "Part 1 Day 12 Medillian Architecure Project overview",
      "widgets": {
        "env": {
          "currentValue": "dev",
          "nuid": "463a8d16-aec2-4154-bcb9-d2ad43ff27fd",
          "typedWidgetInfo": {
            "autoCreated": false,
            "defaultValue": "",
            "label": "Enter the environment in lower case",
            "name": "env",
            "options": {
              "widgetDisplayType": "Text",
              "validationRegex": null
            },
            "parameterDataType": "String"
          },
          "widgetInfo": {
            "widgetType": "text",
            "defaultValue": "",
            "label": "Enter the environment in lower case",
            "name": "env",
            "options": {
              "widgetType": "text",
              "autoCreated": null,
              "validationRegex": null
            }
          }
        }
      }
    },
    "language_info": {
      "name": "python"
    },
    "colab": {
      "provenance": []
    }
  },
  "nbformat": 4,
  "nbformat_minor": 0
}