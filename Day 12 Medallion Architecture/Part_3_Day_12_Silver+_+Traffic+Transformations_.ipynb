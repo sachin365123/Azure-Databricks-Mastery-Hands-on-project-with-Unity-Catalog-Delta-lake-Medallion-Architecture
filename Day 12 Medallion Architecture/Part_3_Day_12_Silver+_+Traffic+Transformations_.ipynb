{
  "nbformat": 4,
  "nbformat_minor": 0,
  "metadata": {
    "colab": {
      "provenance": []
    },
    "kernelspec": {
      "name": "python3",
      "display_name": "Python 3"
    },
    "language_info": {
      "name": "python"
    }
  },
  "cells": [
    {
      "cell_type": "markdown",
      "metadata": {
        "application/vnd.databricks.v1+cell": {
          "cellMetadata": {},
          "inputWidgets": {},
          "nuid": "032df355-3e24-4c18-8296-b79af20351a7",
          "showTitle": false,
          "tableResultSettingsMap": {},
          "title": ""
        },
        "id": "2k3gwFj_0aSO"
      },
      "source": [
        "### Part 3 Silver+-+Traffic+Transformations"
      ]
    },
    {
      "cell_type": "code",
      "execution_count": null,
      "metadata": {
        "application/vnd.databricks.v1+cell": {
          "cellMetadata": {
            "byteLimit": 2048000,
            "rowLimit": 10000
          },
          "inputWidgets": {},
          "nuid": "a5d2c2a7-da29-4b28-ba40-96d7799e519a",
          "showTitle": false,
          "tableResultSettingsMap": {},
          "title": ""
        },
        "id": "nh7KI3P10aSO"
      },
      "outputs": [],
      "source": [
        "checkpoint = spark.sql(\"describe external location `checkpoints`\").select(\"url\").collect()[0][0]\n",
        "bronze = spark.sql(\"describe external location `bronze`\").select(\"url\").collect()[0][0]\n",
        "silver = spark.sql(\"describe external location `silver`\").select(\"url\").collect()[0][0]"
      ]
    },
    {
      "cell_type": "code",
      "execution_count": null,
      "metadata": {
        "application/vnd.databricks.v1+cell": {
          "cellMetadata": {},
          "inputWidgets": {},
          "nuid": "46c4cf32-a4d2-4fe7-9377-8e1c0cfd9be8",
          "showTitle": false,
          "tableResultSettingsMap": {},
          "title": ""
        },
        "id": "cXeQTBl00aSP"
      },
      "outputs": [],
      "source": [
        "%run \"/Workspace/Users/sachinsax_gmail.com#ext#@sachinsaxgmail.onmicrosoft.com/Part 4 Common\""
      ]
    },
    {
      "cell_type": "code",
      "execution_count": null,
      "metadata": {
        "application/vnd.databricks.v1+cell": {
          "cellMetadata": {
            "byteLimit": 2048000,
            "rowLimit": 10000
          },
          "inputWidgets": {},
          "nuid": "948e88db-58ad-4f5e-81e4-c26a5ed840a7",
          "showTitle": false,
          "tableResultSettingsMap": {},
          "title": ""
        },
        "id": "KhKQLXtC0aSP",
        "outputId": "2effae14-d21c-4c55-9d72-50e998a0ced4"
      },
      "outputs": [
        {
          "output_type": "stream",
          "name": "stdout",
          "text": [
            "abfss://checkpoints@databricksdevstg123.dfs.core.windows.net/\nabfss://medallion@databricksdevstg123.dfs.core.windows.net/bronze\nabfss://medallion@databricksdevstg123.dfs.core.windows.net/silver\n"
          ]
        }
      ],
      "source": [
        "print(checkpoint)\n",
        "print(bronze)\n",
        "print(silver)"
      ]
    },
    {
      "cell_type": "code",
      "execution_count": null,
      "metadata": {
        "application/vnd.databricks.v1+cell": {
          "cellMetadata": {
            "byteLimit": 2048000,
            "rowLimit": 10000
          },
          "inputWidgets": {},
          "nuid": "8eda7ae2-fed7-45e5-b10a-031fd452491d",
          "showTitle": false,
          "tableResultSettingsMap": {},
          "title": ""
        },
        "id": "Rw-jefj-0aSP"
      },
      "outputs": [],
      "source": [
        "dbutils.widgets.text(name=\"env\",defaultValue='',label='Enter the environment in lower case')\n",
        "env = dbutils.widgets.get(\"env\")"
      ]
    },
    {
      "cell_type": "markdown",
      "metadata": {
        "application/vnd.databricks.v1+cell": {
          "cellMetadata": {},
          "inputWidgets": {},
          "nuid": "d5deb18a-0d9b-42e9-9ffb-d1597b56dc28",
          "showTitle": false,
          "tableResultSettingsMap": {},
          "title": ""
        },
        "id": "8Ap482Jj0aSQ"
      },
      "source": [
        "### Reading the data from bronze Table"
      ]
    },
    {
      "cell_type": "code",
      "execution_count": null,
      "metadata": {
        "application/vnd.databricks.v1+cell": {
          "cellMetadata": {
            "byteLimit": 2048000,
            "rowLimit": 10000
          },
          "inputWidgets": {},
          "nuid": "86d642e2-45fc-411a-86e8-37a65278afad",
          "showTitle": false,
          "tableResultSettingsMap": {},
          "title": ""
        },
        "id": "7-ZhwulD0aSQ"
      },
      "outputs": [],
      "source": [
        "def read_BronzeTrafficTable(environment):\n",
        "    print('Reading the Bronze Table Data : ',end='')\n",
        "    df_bronzeTraffic = (spark.readStream\n",
        "                    .table(f\"`{environment}-catalog`.`bronze`.raw_traffic\")\n",
        "                    )\n",
        "    print(f'Reading {environment}_catalog.bronze.raw_traffic Success!')\n",
        "    return df_bronzeTraffic"
      ]
    },
    {
      "cell_type": "markdown",
      "metadata": {
        "application/vnd.databricks.v1+cell": {
          "cellMetadata": {},
          "inputWidgets": {},
          "nuid": "90991786-87d3-4284-8396-4a55af2485c2",
          "showTitle": false,
          "tableResultSettingsMap": {},
          "title": ""
        },
        "id": "xMY08lXT0aSR"
      },
      "source": [
        "### Handing duplicate rows"
      ]
    },
    {
      "cell_type": "code",
      "execution_count": null,
      "metadata": {
        "application/vnd.databricks.v1+cell": {
          "cellMetadata": {
            "byteLimit": 2048000,
            "rowLimit": 10000
          },
          "inputWidgets": {},
          "nuid": "50c33080-4a10-47c7-aa4e-8a606d74a9ed",
          "showTitle": false,
          "tableResultSettingsMap": {},
          "title": ""
        },
        "id": "qmFhjPTT0aSX"
      },
      "outputs": [],
      "source": [
        "def remove_Dups(df):\n",
        "    print('Removing Duplicate values: ', end='')\n",
        "    df_dup = df.dropDuplicates()\n",
        "    print('Success!! ')\n",
        "    return df_dup"
      ]
    },
    {
      "cell_type": "markdown",
      "metadata": {
        "application/vnd.databricks.v1+cell": {
          "cellMetadata": {},
          "inputWidgets": {},
          "nuid": "c71c9130-1b2a-4a0b-9aed-d72ec0549379",
          "showTitle": false,
          "tableResultSettingsMap": {},
          "title": ""
        },
        "id": "XUOi2p6O0aSY"
      },
      "source": [
        "### Handling NULL values by replacing them"
      ]
    },
    {
      "cell_type": "code",
      "execution_count": null,
      "metadata": {
        "application/vnd.databricks.v1+cell": {
          "cellMetadata": {
            "byteLimit": 2048000,
            "rowLimit": 10000
          },
          "inputWidgets": {},
          "nuid": "d719cc13-7703-4d43-bd05-fc917f82b50e",
          "showTitle": false,
          "tableResultSettingsMap": {},
          "title": ""
        },
        "id": "OvirjOzR0aSZ"
      },
      "outputs": [],
      "source": [
        "def handle_NULLs(df,columns):\n",
        "    print('Replacing NULL values on String Columns with \"Unknown\" ' , end='')\n",
        "    df_string = df.fillna('Unknown',subset= columns)\n",
        "    print('Successs!! ')\n",
        "\n",
        "    print('Replacing NULL values on Numeric Columns with \"0\" ' , end='')\n",
        "    df_clean = df_string.fillna(0,subset = columns)\n",
        "    print('Success!! ')\n",
        "\n",
        "    return df_clean"
      ]
    },
    {
      "cell_type": "markdown",
      "metadata": {
        "application/vnd.databricks.v1+cell": {
          "cellMetadata": {},
          "inputWidgets": {},
          "nuid": "d3ccd38d-aa00-4fb9-adc4-82cc0bd00af7",
          "showTitle": false,
          "tableResultSettingsMap": {},
          "title": ""
        },
        "id": "lwXuLfzy0aSa"
      },
      "source": [
        "### Getting count of Electric vehicles by creating new column"
      ]
    },
    {
      "cell_type": "code",
      "execution_count": null,
      "metadata": {
        "application/vnd.databricks.v1+cell": {
          "cellMetadata": {
            "byteLimit": 2048000,
            "rowLimit": 10000
          },
          "inputWidgets": {},
          "nuid": "880bfa41-96d2-4a19-9044-3510dcf5a3a8",
          "showTitle": false,
          "tableResultSettingsMap": {},
          "title": ""
        },
        "id": "jD_7vO7t0aSb"
      },
      "outputs": [],
      "source": [
        "def ev_Count(df):\n",
        "    print('Creating Electric Vehicles Count Column : ', end='')\n",
        "    from pyspark.sql.functions import col\n",
        "    df_ev = df.withColumn('Electric_Vehicles_Count',\n",
        "                            col('EV_Car') + col('EV_Bike')\n",
        "                            )\n",
        "\n",
        "    print('Success!! ')\n",
        "    return df_ev"
      ]
    },
    {
      "cell_type": "markdown",
      "metadata": {
        "application/vnd.databricks.v1+cell": {
          "cellMetadata": {},
          "inputWidgets": {},
          "nuid": "78f9f006-90ea-4a13-9055-5d34cd115d74",
          "showTitle": false,
          "tableResultSettingsMap": {},
          "title": ""
        },
        "id": "qjTUffBf0aSc"
      },
      "source": [
        "### Creating columns to get Count of all motor vehicles"
      ]
    },
    {
      "cell_type": "code",
      "execution_count": null,
      "metadata": {
        "application/vnd.databricks.v1+cell": {
          "cellMetadata": {
            "byteLimit": 2048000,
            "rowLimit": 10000
          },
          "inputWidgets": {},
          "nuid": "85357deb-0fc3-484d-a434-05a19cf8eb51",
          "showTitle": false,
          "tableResultSettingsMap": {},
          "title": ""
        },
        "id": "W1WdZSQs0aSc"
      },
      "outputs": [],
      "source": [
        "def Motor_Count(df):\n",
        "    print('Creating All Motor Vehicles Count Column : ', end='')\n",
        "    from pyspark.sql.functions import col\n",
        "    df_motor = df.withColumn('Motor_Vehicles_Count',\n",
        "                            col('Electric_Vehicles_Count') + col('Two_wheeled_motor_vehicles') + col('Cars_and_taxis') + col('Buses_and_coaches') + col('LGV_Type') + col('HGV_Type')\n",
        "                            )\n",
        "\n",
        "    print('Success!! ')\n",
        "    return df_motor"
      ]
    },
    {
      "cell_type": "markdown",
      "metadata": {
        "application/vnd.databricks.v1+cell": {
          "cellMetadata": {},
          "inputWidgets": {},
          "nuid": "28ea6396-f2e5-46a4-93e9-8f0f2ef90d32",
          "showTitle": false,
          "tableResultSettingsMap": {},
          "title": ""
        },
        "id": "PWuUNOUY0aSf"
      },
      "source": [
        "### Creating Transformed Time column"
      ]
    },
    {
      "cell_type": "code",
      "execution_count": null,
      "metadata": {
        "application/vnd.databricks.v1+cell": {
          "cellMetadata": {
            "byteLimit": 2048000,
            "rowLimit": 10000
          },
          "inputWidgets": {},
          "nuid": "be89451b-72e8-4d85-a490-eb25917d2400",
          "showTitle": false,
          "tableResultSettingsMap": {},
          "title": ""
        },
        "id": "cCQufdNQ0aSf"
      },
      "outputs": [],
      "source": [
        "def create_TransformedTime(df):\n",
        "    from pyspark.sql.functions import current_timestamp\n",
        "    print('Creating Transformed Time column : ',end='')\n",
        "    df_timestamp = df.withColumn('Transformed_Time',\n",
        "                      current_timestamp()\n",
        "                      )\n",
        "    print('Success!!')\n",
        "    return df_timestamp"
      ]
    },
    {
      "cell_type": "markdown",
      "metadata": {
        "application/vnd.databricks.v1+cell": {
          "cellMetadata": {},
          "inputWidgets": {},
          "nuid": "bb255d4d-3f47-42e6-88bf-d2c2d99519ac",
          "showTitle": false,
          "tableResultSettingsMap": {},
          "title": ""
        },
        "id": "g0yM7tjj0aSg"
      },
      "source": [
        "### Calling the functions"
      ]
    },
    {
      "cell_type": "markdown",
      "metadata": {
        "application/vnd.databricks.v1+cell": {
          "cellMetadata": {},
          "inputWidgets": {},
          "nuid": "df047015-374a-4050-b689-3edcc5887509",
          "showTitle": false,
          "tableResultSettingsMap": {},
          "title": ""
        },
        "id": "UZvE9Zkb0aSg"
      },
      "source": [
        "### Writing the Transformed data to Silver_Traffic Table"
      ]
    },
    {
      "cell_type": "code",
      "execution_count": null,
      "metadata": {
        "application/vnd.databricks.v1+cell": {
          "cellMetadata": {
            "byteLimit": 2048000,
            "rowLimit": 10000
          },
          "inputWidgets": {},
          "nuid": "95ec7a05-6ddf-4b02-a45a-40f072ddcfdf",
          "showTitle": false,
          "tableResultSettingsMap": {},
          "title": ""
        },
        "id": "uqYe0eOB0aSh"
      },
      "outputs": [],
      "source": [
        "def write_Traffic_SilverTable(StreamingDF,environment):\n",
        "    print('Writing the silver_traffic Data : ',end='')\n",
        "\n",
        "    write_StreamSilver = (StreamingDF.writeStream\n",
        "                .format('delta')\n",
        "                .option('checkpointLocation',checkpoint+ \"/SilverTrafficLoad/Checkpt/\")\n",
        "                .outputMode('append')\n",
        "                .queryName(\"SilverTrafficWriteStream\")\n",
        "                .trigger(availableNow=True)\n",
        "                .toTable(f\"`{environment}-catalog`.`silver`.`silver_traffic`\"))\n",
        "\n",
        "    write_StreamSilver.awaitTermination()\n",
        "    print(f'Writing `{environment}-catalog`.`silver`.`silver_traffic` Success!')"
      ]
    },
    {
      "cell_type": "code",
      "execution_count": null,
      "metadata": {
        "application/vnd.databricks.v1+cell": {
          "cellMetadata": {
            "byteLimit": 2048000,
            "rowLimit": 10000
          },
          "inputWidgets": {},
          "nuid": "7358654e-581a-4ff5-b47c-e5f40da52135",
          "showTitle": false,
          "tableResultSettingsMap": {},
          "title": ""
        },
        "id": "Vtd96CvF0aSh",
        "outputId": "1a2b20b9-a700-45ed-a127-e7070850d735"
      },
      "outputs": [
        {
          "output_type": "stream",
          "name": "stdout",
          "text": [
            "Reading the Bronze Table Data : Reading dev_catalog.bronze.raw_traffic Success!\nRemoving Duplicate values: Success!! \nReplacing NULL values on String Columns with \"Unknown\" Successs!! \nReplacing NULL values on Numeric Columns with \"0\" Success!! \nCreating Electric Vehicles Count Column : Success!! \nCreating All Motor Vehicles Count Column : Success!! \nCreating Transformed Time column : Success!!\nWriting the silver_traffic Data : Writing `dev-catalog`.`silver`.`silver_traffic` Success!\n"
          ]
        }
      ],
      "source": [
        "## Reading the bronze traffic data\n",
        "\n",
        "df_trafficdata = read_BronzeTrafficTable(env)\n",
        "\n",
        "# To remove duplicate rows\n",
        "\n",
        "df_dups = remove_Dups(df_trafficdata)\n",
        "\n",
        "# To raplce any NULL values\n",
        "Allcolumns =df_dups.schema.names\n",
        "df_nulls = handle_NULLs(df_dups,Allcolumns)\n",
        "\n",
        "## To get the total EV_Count\n",
        "\n",
        "df_ev = ev_Count(df_nulls)\n",
        "\n",
        "\n",
        "## To get the Total Motor vehicle count\n",
        "\n",
        "df_motor = Motor_Count(df_ev)\n",
        "\n",
        "## Calling Transformed time function\n",
        "\n",
        "df_final = create_TransformedTime(df_motor)\n",
        "\n",
        "## Writing to silver_traffic\n",
        "\n",
        "write_Traffic_SilverTable(df_final, env)"
      ]
    },
    {
      "cell_type": "markdown",
      "metadata": {
        "application/vnd.databricks.v1+cell": {
          "cellMetadata": {},
          "inputWidgets": {},
          "nuid": "27f7f83c-30aa-496b-89ec-5aba14e46c44",
          "showTitle": false,
          "tableResultSettingsMap": {},
          "title": ""
        },
        "id": "p0FHYCGd0aSj"
      },
      "source": [
        "### To prove only incremented records were being transformed"
      ]
    },
    {
      "cell_type": "markdown",
      "metadata": {
        "application/vnd.databricks.v1+cell": {
          "cellMetadata": {},
          "inputWidgets": {},
          "nuid": "1ef669f7-feb0-47ba-98f9-21b693f89a37",
          "showTitle": false,
          "tableResultSettingsMap": {},
          "title": ""
        },
        "id": "aixzdjsA0aSk"
      },
      "source": [
        "###### upload raw_traffic2.csv file into raw_traffic directory in landing directory\n",
        "###### and upload raw_roads2.csv file into raw_roads directory in landing directory\n",
        "###### and re run all cells below Part 2b: Calling read and Write Functions\n",
        "###### You will find different number of counts for below SQL query"
      ]
    },
    {
      "cell_type": "markdown",
      "metadata": {
        "application/vnd.databricks.v1+cell": {
          "cellMetadata": {},
          "inputWidgets": {},
          "nuid": "7e771946-5f17-4872-9f0e-f0c241a715c9",
          "showTitle": false,
          "tableResultSettingsMap": {},
          "title": ""
        },
        "id": "npvYi2Pt0aSm"
      },
      "source": [
        "###### SIMILARLY"
      ]
    },
    {
      "cell_type": "markdown",
      "metadata": {
        "application/vnd.databricks.v1+cell": {
          "cellMetadata": {},
          "inputWidgets": {},
          "nuid": "2d156232-f640-485d-a1cb-36b8423409d7",
          "showTitle": false,
          "tableResultSettingsMap": {},
          "title": ""
        },
        "id": "Yh23DqaB0aSo"
      },
      "source": [
        "%md\n",
        "###### upload raw_traffic3.csv file into raw_traffic directory in landing directory\n",
        "###### and upload raw_roads3.csv file into raw_roads directory in landing directory\n",
        "###### and re run all cells below Part 2b: Calling read and Write Functions\n",
        "###### You will find different number of counts for below SQL query"
      ]
    },
    {
      "cell_type": "code",
      "execution_count": null,
      "metadata": {
        "application/vnd.databricks.v1+cell": {
          "cellMetadata": {
            "byteLimit": 2048000,
            "implicitDf": true,
            "rowLimit": 10000
          },
          "inputWidgets": {},
          "nuid": "6055cc14-0b5a-44ca-9489-498879b8f6fb",
          "showTitle": false,
          "tableResultSettingsMap": {},
          "title": ""
        },
        "id": "J_MWz2Zk0aSp",
        "outputId": "470643c3-2e52-4c80-9df0-f14145811589"
      },
      "outputs": [
        {
          "output_type": "display_data",
          "data": {
            "text/html": [
              "<style scoped>\n",
              "  .table-result-container {\n",
              "    max-height: 300px;\n",
              "    overflow: auto;\n",
              "  }\n",
              "  table, th, td {\n",
              "    border: 1px solid black;\n",
              "    border-collapse: collapse;\n",
              "  }\n",
              "  th, td {\n",
              "    padding: 5px;\n",
              "  }\n",
              "  th {\n",
              "    text-align: left;\n",
              "  }\n",
              "</style><div class='table-result-container'><table class='table-result'><thead style='background-color: white'><tr><th>count(1)</th></tr></thead><tbody><tr><td>55638</td></tr></tbody></table></div>"
            ]
          },
          "metadata": {
            "application/vnd.databricks.v1+output": {
              "addedWidgets": {},
              "aggData": [],
              "aggError": "",
              "aggOverflow": false,
              "aggSchema": [],
              "aggSeriesLimitReached": false,
              "aggType": "",
              "arguments": {},
              "columnCustomDisplayInfos": {},
              "data": [
                [
                  55638
                ]
              ],
              "datasetInfos": [],
              "dbfsResultPath": null,
              "isJsonSchema": true,
              "metadata": {
                "createTempViewForImplicitDf": true,
                "dataframeName": "_sqldf",
                "executionCount": 52
              },
              "overflow": false,
              "plotOptions": {
                "customPlotOptions": {},
                "displayType": "table",
                "pivotAggregation": null,
                "pivotColumns": null,
                "xColumns": null,
                "yColumns": null
              },
              "removedWidgets": [],
              "schema": [
                {
                  "metadata": "{\"__autoGeneratedAlias\":\"true\"}",
                  "name": "count(1)",
                  "type": "\"long\""
                }
              ],
              "type": "table"
            }
          }
        }
      ],
      "source": [
        "%sql\n",
        "select count(*) from `dev-catalog`.`silver`.`silver_traffic`"
      ]
    },
    {
      "cell_type": "markdown",
      "metadata": {
        "application/vnd.databricks.v1+cell": {
          "cellMetadata": {},
          "inputWidgets": {},
          "nuid": "31728974-9da4-4476-8c86-534bc8e7ea49",
          "showTitle": false,
          "tableResultSettingsMap": {},
          "title": ""
        },
        "id": "JFNv4IgQ0aSq"
      },
      "source": [
        "##### Now create the common notebook in another notebook sepeartely with name \"Part 2 Common.ipynb\"\n"
      ]
    }
  ]
}