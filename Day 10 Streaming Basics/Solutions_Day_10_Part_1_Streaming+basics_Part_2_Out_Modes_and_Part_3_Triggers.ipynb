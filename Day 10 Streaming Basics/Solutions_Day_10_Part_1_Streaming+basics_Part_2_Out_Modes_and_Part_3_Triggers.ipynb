{
  "cells": [
    {
      "cell_type": "markdown",
      "metadata": {
        "application/vnd.databricks.v1+cell": {
          "cellMetadata": {},
          "inputWidgets": {},
          "nuid": "080b2a0f-7879-49ff-a468-1d145fae9069",
          "showTitle": false,
          "tableResultSettingsMap": {},
          "title": ""
        },
        "id": "dXuwNI8m9whG"
      },
      "source": [
        "# Day 10 Part 1 Streaming+basics"
      ]
    },
    {
      "cell_type": "code",
      "execution_count": null,
      "metadata": {
        "application/vnd.databricks.v1+cell": {
          "cellMetadata": {
            "byteLimit": 2048000,
            "rowLimit": 10000
          },
          "inputWidgets": {},
          "nuid": "2dac9524-7d3a-43fa-8775-3a52b63dd7fb",
          "showTitle": false,
          "tableResultSettingsMap": {},
          "title": ""
        },
        "id": "wWTerqRa9whH"
      },
      "outputs": [],
      "source": [
        "from pyspark.sql.types import StructType, StructField, StringType , IntegerType, FloatType\n",
        "\n",
        "schema = StructType([\n",
        "                     StructField('Country',StringType()),\n",
        "                     StructField('Citizens',IntegerType())\n",
        "])"
      ]
    },
    {
      "cell_type": "code",
      "execution_count": null,
      "metadata": {
        "application/vnd.databricks.v1+cell": {
          "cellMetadata": {
            "byteLimit": 2048000,
            "rowLimit": 10000
          },
          "inputWidgets": {},
          "nuid": "c448ecd0-6570-4962-bdb3-80abe865dbc1",
          "showTitle": false,
          "tableResultSettingsMap": {},
          "title": ""
        },
        "id": "UzgZDvxJ9whI"
      },
      "outputs": [],
      "source": [
        "source_dir = 'dbfs:/FileStore/streaming/'"
      ]
    },
    {
      "cell_type": "code",
      "execution_count": null,
      "metadata": {
        "application/vnd.databricks.v1+cell": {
          "cellMetadata": {
            "byteLimit": 2048000,
            "implicitDf": true,
            "rowLimit": 10000
          },
          "inputWidgets": {},
          "nuid": "1a78bd6c-326c-4f42-ac9d-1c33cdac7219",
          "showTitle": false,
          "tableResultSettingsMap": {},
          "title": ""
        },
        "id": "5vz7Gdkt9whI",
        "outputId": "a01d39bf-2b07-42b5-a5a7-9bb1f37b6424"
      },
      "outputs": [
        {
          "output_type": "display_data",
          "data": {
            "text/html": [
              "<style scoped>\n",
              "  .table-result-container {\n",
              "    max-height: 300px;\n",
              "    overflow: auto;\n",
              "  }\n",
              "  table, th, td {\n",
              "    border: 1px solid black;\n",
              "    border-collapse: collapse;\n",
              "  }\n",
              "  th, td {\n",
              "    padding: 5px;\n",
              "  }\n",
              "  th {\n",
              "    text-align: left;\n",
              "  }\n",
              "</style><div class='table-result-container'><table class='table-result'><thead style='background-color: white'><tr></tr></thead><tbody></tbody></table></div>"
            ]
          },
          "metadata": {
            "application/vnd.databricks.v1+output": {
              "addedWidgets": {},
              "aggData": [],
              "aggError": "",
              "aggOverflow": false,
              "aggSchema": [],
              "aggSeriesLimitReached": false,
              "aggType": "",
              "arguments": {},
              "columnCustomDisplayInfos": {},
              "data": [],
              "datasetInfos": [],
              "dbfsResultPath": null,
              "isJsonSchema": true,
              "metadata": {},
              "overflow": false,
              "plotOptions": {
                "customPlotOptions": {},
                "displayType": "table",
                "pivotAggregation": null,
                "pivotColumns": null,
                "xColumns": null,
                "yColumns": null
              },
              "removedWidgets": [],
              "schema": [],
              "type": "table"
            }
          }
        }
      ],
      "source": [
        "%sql\n",
        "\n",
        "CREATE SCHEMA IF NOT EXISTS  stream;\n",
        "use stream"
      ]
    },
    {
      "cell_type": "code",
      "execution_count": null,
      "metadata": {
        "application/vnd.databricks.v1+cell": {
          "cellMetadata": {
            "byteLimit": 2048000,
            "rowLimit": 10000
          },
          "inputWidgets": {},
          "nuid": "5a26e3fe-1622-425b-8c68-fba147f57a41",
          "showTitle": false,
          "tableResultSettingsMap": {},
          "title": ""
        },
        "id": "9p1VMG969whJ"
      },
      "outputs": [],
      "source": [
        "# spark.readStream Returns a DataStreamReader that can be used to read data streams as a streaming DataFrame.\n",
        "df = spark.readStream.format(\"csv\")\\\n",
        "        .option('header','true')\\\n",
        "        .schema(schema)\\\n",
        "        .load(source_dir)"
      ]
    },
    {
      "cell_type": "code",
      "execution_count": null,
      "metadata": {
        "application/vnd.databricks.v1+cell": {
          "cellMetadata": {
            "byteLimit": 2048000,
            "rowLimit": 10000
          },
          "inputWidgets": {},
          "nuid": "d680b0f8-fa64-4675-aafd-f0f7daa8db10",
          "showTitle": false,
          "tableResultSettingsMap": {},
          "title": ""
        },
        "id": "RPo6vdOX9whJ",
        "outputId": "1a4ac0ef-91bc-4234-9480-6ac144bec855"
      },
      "outputs": [
        {
          "output_type": "display_data",
          "data": {
            "text/html": [
              "<style scoped>\n",
              "  .table-result-container {\n",
              "    max-height: 300px;\n",
              "    overflow: auto;\n",
              "  }\n",
              "  table, th, td {\n",
              "    border: 1px solid black;\n",
              "    border-collapse: collapse;\n",
              "  }\n",
              "  th, td {\n",
              "    padding: 5px;\n",
              "  }\n",
              "  th {\n",
              "    text-align: left;\n",
              "  }\n",
              "</style><div class='table-result-container'><table class='table-result'><thead style='background-color: white'><tr><th>Country</th><th>Citizens</th></tr></thead><tbody><tr><td>India</td><td>10</td></tr><tr><td>USA</td><td>5</td></tr><tr><td>China</td><td>10</td></tr><tr><td>India</td><td>10</td></tr><tr><td>Canada</td><td>40</td></tr><tr><td>Brazil</td><td>10</td></tr><tr><td>India</td><td>5</td></tr><tr><td>USA</td><td>10</td></tr><tr><td>China</td><td>5</td></tr><tr><td>India</td><td>5</td></tr><tr><td>Canada</td><td>10</td></tr><tr><td>Brazil</td><td>50</td></tr><tr><td>India</td><td>15</td></tr><tr><td>USA</td><td>20</td></tr><tr><td>China</td><td>10</td></tr></tbody></table></div>"
            ]
          },
          "metadata": {
            "application/vnd.databricks.v1+output": {
              "addedWidgets": {},
              "aggData": [],
              "aggError": "",
              "aggOverflow": false,
              "aggSchema": [],
              "aggSeriesLimitReached": false,
              "aggType": "",
              "arguments": {},
              "columnCustomDisplayInfos": {},
              "data": [
                [
                  "India",
                  10
                ],
                [
                  "USA",
                  5
                ],
                [
                  "China",
                  10
                ],
                [
                  "India",
                  10
                ],
                [
                  "Canada",
                  40
                ],
                [
                  "Brazil",
                  10
                ],
                [
                  "India",
                  5
                ],
                [
                  "USA",
                  10
                ],
                [
                  "China",
                  5
                ],
                [
                  "India",
                  5
                ],
                [
                  "Canada",
                  10
                ],
                [
                  "Brazil",
                  50
                ],
                [
                  "India",
                  15
                ],
                [
                  "USA",
                  20
                ],
                [
                  "China",
                  10
                ]
              ],
              "datasetInfos": [],
              "dbfsResultPath": null,
              "isJsonSchema": true,
              "metadata": {
                "isDbfsCommandResult": false
              },
              "overflow": false,
              "plotOptions": {
                "customPlotOptions": {},
                "displayType": "table",
                "pivotAggregation": null,
                "pivotColumns": null,
                "xColumns": null,
                "yColumns": null
              },
              "removedWidgets": [],
              "schema": [
                {
                  "metadata": "{}",
                  "name": "Country",
                  "type": "\"string\""
                },
                {
                  "metadata": "{}",
                  "name": "Citizens",
                  "type": "\"integer\""
                }
              ],
              "type": "table"
            }
          }
        }
      ],
      "source": [
        "display(df)"
      ]
    },
    {
      "cell_type": "code",
      "execution_count": null,
      "metadata": {
        "application/vnd.databricks.v1+cell": {
          "cellMetadata": {
            "byteLimit": 2048000,
            "rowLimit": 10000
          },
          "inputWidgets": {},
          "nuid": "80ef2b9c-d9ea-4ecc-bf62-143db93630bf",
          "showTitle": false,
          "tableResultSettingsMap": {},
          "title": ""
        },
        "id": "AhXpKcV_9whK"
      },
      "outputs": [],
      "source": [
        "# Complete code Resource: https://spark.apache.org/docs/3.5.3/structured-streaming-programming-guide.html\n",
        " WriteStream = ( df.writeStream\n",
        "        .option('checkpointLocation',f'{source_dir}/AppendCheckpoint')\n",
        "        .outputMode(\"append\")\n",
        "        .queryName('AppendQuery')\n",
        "        .toTable(\"stream.AppendTable\"))"
      ]
    },
    {
      "cell_type": "code",
      "execution_count": null,
      "metadata": {
        "application/vnd.databricks.v1+cell": {
          "cellMetadata": {
            "byteLimit": 2048000,
            "implicitDf": true,
            "rowLimit": 10000
          },
          "inputWidgets": {},
          "nuid": "5cbb6504-c2fe-49d8-8217-6abb07b6041b",
          "showTitle": false,
          "tableResultSettingsMap": {},
          "title": ""
        },
        "id": "KCyE4Y8T9whK",
        "outputId": "e3677cbc-5121-42d1-a8b6-58c6027f7105"
      },
      "outputs": [
        {
          "output_type": "display_data",
          "data": {
            "text/html": [
              "<style scoped>\n",
              "  .table-result-container {\n",
              "    max-height: 300px;\n",
              "    overflow: auto;\n",
              "  }\n",
              "  table, th, td {\n",
              "    border: 1px solid black;\n",
              "    border-collapse: collapse;\n",
              "  }\n",
              "  th, td {\n",
              "    padding: 5px;\n",
              "  }\n",
              "  th {\n",
              "    text-align: left;\n",
              "  }\n",
              "</style><div class='table-result-container'><table class='table-result'><thead style='background-color: white'><tr><th>Country</th><th>Citizens</th></tr></thead><tbody><tr><td>India</td><td>10</td></tr><tr><td>USA</td><td>5</td></tr><tr><td>China</td><td>10</td></tr><tr><td>India</td><td>10</td></tr><tr><td>Canada</td><td>40</td></tr><tr><td>Brazil</td><td>10</td></tr><tr><td>India</td><td>5</td></tr><tr><td>USA</td><td>10</td></tr><tr><td>China</td><td>5</td></tr><tr><td>India</td><td>5</td></tr><tr><td>Canada</td><td>10</td></tr><tr><td>Brazil</td><td>50</td></tr><tr><td>India</td><td>10</td></tr><tr><td>USA</td><td>10</td></tr><tr><td>China</td><td>20</td></tr><tr><td>Brazil</td><td>10</td></tr><tr><td>India</td><td>10</td></tr><tr><td>USA</td><td>10</td></tr><tr><td>China</td><td>20</td></tr><tr><td>Brazil</td><td>10</td></tr><tr><td>India</td><td>15</td></tr><tr><td>USA</td><td>20</td></tr><tr><td>China</td><td>10</td></tr></tbody></table></div>"
            ]
          },
          "metadata": {
            "application/vnd.databricks.v1+output": {
              "addedWidgets": {},
              "aggData": [],
              "aggError": "",
              "aggOverflow": false,
              "aggSchema": [],
              "aggSeriesLimitReached": false,
              "aggType": "",
              "arguments": {},
              "columnCustomDisplayInfos": {},
              "data": [
                [
                  "India",
                  10
                ],
                [
                  "USA",
                  5
                ],
                [
                  "China",
                  10
                ],
                [
                  "India",
                  10
                ],
                [
                  "Canada",
                  40
                ],
                [
                  "Brazil",
                  10
                ],
                [
                  "India",
                  5
                ],
                [
                  "USA",
                  10
                ],
                [
                  "China",
                  5
                ],
                [
                  "India",
                  5
                ],
                [
                  "Canada",
                  10
                ],
                [
                  "Brazil",
                  50
                ],
                [
                  "India",
                  10
                ],
                [
                  "USA",
                  10
                ],
                [
                  "China",
                  20
                ],
                [
                  "Brazil",
                  10
                ],
                [
                  "India",
                  10
                ],
                [
                  "USA",
                  10
                ],
                [
                  "China",
                  20
                ],
                [
                  "Brazil",
                  10
                ],
                [
                  "India",
                  15
                ],
                [
                  "USA",
                  20
                ],
                [
                  "China",
                  10
                ]
              ],
              "datasetInfos": [],
              "dbfsResultPath": null,
              "isJsonSchema": true,
              "metadata": {},
              "overflow": false,
              "plotOptions": {
                "customPlotOptions": {},
                "displayType": "table",
                "pivotAggregation": null,
                "pivotColumns": null,
                "xColumns": null,
                "yColumns": null
              },
              "removedWidgets": [],
              "schema": [
                {
                  "metadata": "{}",
                  "name": "Country",
                  "type": "\"string\""
                },
                {
                  "metadata": "{}",
                  "name": "Citizens",
                  "type": "\"integer\""
                }
              ],
              "type": "table"
            }
          }
        }
      ],
      "source": [
        "%sql\n",
        "SELECT * FROM stream.AppendTable"
      ]
    },
    {
      "cell_type": "code",
      "execution_count": null,
      "metadata": {
        "application/vnd.databricks.v1+cell": {
          "cellMetadata": {
            "byteLimit": 2048000,
            "rowLimit": 10000
          },
          "inputWidgets": {},
          "nuid": "54bff645-377c-4d8b-b430-5d531ad55c69",
          "showTitle": false,
          "tableResultSettingsMap": {},
          "title": ""
        },
        "id": "IQqTz6LE9whK"
      },
      "outputs": [],
      "source": [
        "WriteStream.stop()"
      ]
    },
    {
      "cell_type": "markdown",
      "metadata": {
        "application/vnd.databricks.v1+cell": {
          "cellMetadata": {},
          "inputWidgets": {},
          "nuid": "bf4d837d-499d-45b1-b9ff-d9193553e43c",
          "showTitle": false,
          "tableResultSettingsMap": {},
          "title": ""
        },
        "id": "Cn9yV2QZ9whL"
      },
      "source": [
        "## Day 10 Part 2 outputModes"
      ]
    },
    {
      "cell_type": "code",
      "execution_count": null,
      "metadata": {
        "application/vnd.databricks.v1+cell": {
          "cellMetadata": {},
          "inputWidgets": {},
          "nuid": "865ae3b3-d5b1-42e3-80ed-60461cf45105",
          "showTitle": false,
          "tableResultSettingsMap": {},
          "title": ""
        },
        "id": "pWM_F_WB9whL"
      },
      "outputs": [],
      "source": [
        "dbutils.fs.rm('dbfs:/user/hive/warehouse/stream.db',True)\n",
        "dbutils.fs.rm('dbfs:/FileStore/streaming',True)"
      ]
    },
    {
      "cell_type": "code",
      "execution_count": null,
      "metadata": {
        "application/vnd.databricks.v1+cell": {
          "cellMetadata": {},
          "inputWidgets": {},
          "nuid": "fa046670-8e1b-4152-aa3c-9aabe43f4cae",
          "showTitle": false,
          "tableResultSettingsMap": {},
          "title": ""
        },
        "id": "GOGHrI_B9whL"
      },
      "outputs": [],
      "source": [
        "dbutils.fs.rm('dbfs:/FileStore/streaming/CompleteCheckpoint',True)"
      ]
    },
    {
      "cell_type": "code",
      "execution_count": null,
      "metadata": {
        "application/vnd.databricks.v1+cell": {
          "cellMetadata": {},
          "inputWidgets": {},
          "nuid": "70637a77-779b-4f11-8f62-8ee05eb46f19",
          "showTitle": false,
          "tableResultSettingsMap": {},
          "title": ""
        },
        "id": "2qFMwj3l9whL"
      },
      "outputs": [],
      "source": [
        "%sql\n",
        "DROP DATABASE IF EXISTS stream CASCADE;\n",
        "CREATE DATABASE IF NOT EXISTS stream"
      ]
    },
    {
      "cell_type": "code",
      "execution_count": null,
      "metadata": {
        "application/vnd.databricks.v1+cell": {
          "cellMetadata": {},
          "inputWidgets": {},
          "nuid": "a2cdd45a-74b3-4b03-ad92-61963aae3ec0",
          "showTitle": false,
          "tableResultSettingsMap": {},
          "title": ""
        },
        "id": "a41U68bF9whM"
      },
      "outputs": [],
      "source": [
        "from pyspark.sql.types import StructType, StructField, StringType , IntegerType, FloatType\n",
        "\n",
        "schema = StructType([\n",
        "                     StructField('Country',StringType()),\n",
        "                     StructField('Citizens',IntegerType())\n",
        "])"
      ]
    },
    {
      "cell_type": "code",
      "execution_count": null,
      "metadata": {
        "application/vnd.databricks.v1+cell": {
          "cellMetadata": {},
          "inputWidgets": {},
          "nuid": "47b434d6-f282-461e-8dd5-b964eb1fbe99",
          "showTitle": false,
          "tableResultSettingsMap": {},
          "title": ""
        },
        "id": "Ta2dmXlf9whM"
      },
      "outputs": [],
      "source": [
        "source_dir = 'dbfs:/FileStore/streaming/'"
      ]
    },
    {
      "cell_type": "code",
      "execution_count": null,
      "metadata": {
        "application/vnd.databricks.v1+cell": {
          "cellMetadata": {},
          "inputWidgets": {},
          "nuid": "d55a75bf-df80-4687-ba59-1ac54bb7f724",
          "showTitle": false,
          "tableResultSettingsMap": {},
          "title": ""
        },
        "id": "_oHTZLFg9whM"
      },
      "outputs": [],
      "source": [
        "df = spark.readStream.format(\"csv\")\\\n",
        "        .option('header','true')\\\n",
        "        .schema(schema)\\\n",
        "        .load(source_dir)"
      ]
    },
    {
      "cell_type": "markdown",
      "metadata": {
        "application/vnd.databricks.v1+cell": {
          "cellMetadata": {},
          "inputWidgets": {},
          "nuid": "af653dd1-9e75-4468-b1b6-252793a4eee0",
          "showTitle": false,
          "tableResultSettingsMap": {},
          "title": ""
        },
        "id": "gMKQ6wOD9whM"
      },
      "source": [
        "### Append"
      ]
    },
    {
      "cell_type": "code",
      "execution_count": null,
      "metadata": {
        "application/vnd.databricks.v1+cell": {
          "cellMetadata": {},
          "inputWidgets": {},
          "nuid": "6509726b-1f5a-4046-9cae-1c257aedb008",
          "showTitle": false,
          "tableResultSettingsMap": {},
          "title": ""
        },
        "id": "oUPmmHIh9whM"
      },
      "outputs": [],
      "source": [
        " WriteStream = ( df.writeStream\n",
        "        .option('checkpointLocation',f'{source_dir}/AppendCheckpoint')\n",
        "        .outputMode(\"append\")\n",
        "        .queryName('AppendQuery')\n",
        "        .toTable(\"stream.AppendTable\"))"
      ]
    },
    {
      "cell_type": "code",
      "execution_count": null,
      "metadata": {
        "application/vnd.databricks.v1+cell": {
          "cellMetadata": {},
          "inputWidgets": {},
          "nuid": "a50be3b0-d9e3-4b2f-abd8-8305b03a6df2",
          "showTitle": false,
          "tableResultSettingsMap": {},
          "title": ""
        },
        "id": "ujqb-Qjy9whM"
      },
      "outputs": [],
      "source": [
        "%sql\n",
        "SELECT * FROM stream.AppendTable"
      ]
    },
    {
      "cell_type": "markdown",
      "metadata": {
        "application/vnd.databricks.v1+cell": {
          "cellMetadata": {},
          "inputWidgets": {},
          "nuid": "4d3a33e0-15fc-45c8-9f09-7af93f71699f",
          "showTitle": false,
          "tableResultSettingsMap": {},
          "title": ""
        },
        "id": "P0K1O0Hb9whN"
      },
      "source": [
        "## Complete"
      ]
    },
    {
      "cell_type": "code",
      "execution_count": null,
      "metadata": {
        "application/vnd.databricks.v1+cell": {
          "cellMetadata": {},
          "inputWidgets": {},
          "nuid": "abe3bcf3-2701-4e69-86c6-f6b28b555522",
          "showTitle": false,
          "tableResultSettingsMap": {},
          "title": ""
        },
        "id": "I5Z-JsPm9whN"
      },
      "outputs": [],
      "source": [
        "from pyspark.sql.functions import sum\n",
        "df_complete = df.groupBy('Country').agg(sum('Citizens').alias('Total_Population'))"
      ]
    },
    {
      "cell_type": "code",
      "execution_count": null,
      "metadata": {
        "application/vnd.databricks.v1+cell": {
          "cellMetadata": {},
          "inputWidgets": {},
          "nuid": "54f7c087-f40d-4c7a-9daa-e7fbefbe4d7b",
          "showTitle": false,
          "tableResultSettingsMap": {},
          "title": ""
        },
        "id": "fWJXBIKy9whN"
      },
      "outputs": [],
      "source": [
        " WriteCompleteStream = ( df_complete.writeStream\n",
        "        .option('checkpointLocation',f'{source_dir}/CompleteCheckpoint')\n",
        "        .outputMode(\"complete\")\n",
        "        .queryName('CompleteQuery')\n",
        "        .toTable(\"stream.CompleteTable\"))"
      ]
    },
    {
      "cell_type": "code",
      "execution_count": null,
      "metadata": {
        "application/vnd.databricks.v1+cell": {
          "cellMetadata": {},
          "inputWidgets": {},
          "nuid": "a65d023f-71f2-40a4-b862-73d1aab7412c",
          "showTitle": false,
          "tableResultSettingsMap": {},
          "title": ""
        },
        "id": "glzGyRzx9whN"
      },
      "outputs": [],
      "source": [
        "%sql\n",
        "SELECT * FROM stream.CompleteTable"
      ]
    },
    {
      "cell_type": "markdown",
      "metadata": {
        "application/vnd.databricks.v1+cell": {
          "cellMetadata": {},
          "inputWidgets": {},
          "nuid": "3fabca78-83b8-497f-8878-ac6bfb862303",
          "showTitle": false,
          "tableResultSettingsMap": {},
          "title": ""
        },
        "id": "DMWsMukh9whN"
      },
      "source": [
        "## Day 10 Part 3 Triggers"
      ]
    },
    {
      "cell_type": "markdown",
      "metadata": {
        "application/vnd.databricks.v1+cell": {
          "cellMetadata": {},
          "inputWidgets": {},
          "nuid": "1f894afa-1158-4d54-83de-c5b7ec2876b4",
          "showTitle": false,
          "tableResultSettingsMap": {},
          "title": ""
        },
        "id": "xl4YVJkC9whN"
      },
      "source": [
        "#### Reading the streaming dataframe"
      ]
    },
    {
      "cell_type": "code",
      "execution_count": null,
      "metadata": {
        "application/vnd.databricks.v1+cell": {
          "cellMetadata": {},
          "inputWidgets": {},
          "nuid": "5f5d659f-f888-47f3-8202-2653219d49ef",
          "showTitle": false,
          "tableResultSettingsMap": {},
          "title": ""
        },
        "id": "5YyWJxWl9whN"
      },
      "outputs": [],
      "source": [
        "df = spark.readStream.format(\"csv\")\\\n",
        "        .option('header','true')\\\n",
        "        .schema(schema)\\\n",
        "        .load(source_dir)"
      ]
    },
    {
      "cell_type": "markdown",
      "metadata": {
        "application/vnd.databricks.v1+cell": {
          "cellMetadata": {},
          "inputWidgets": {},
          "nuid": "5d63d1f6-aef9-4a7d-a206-5331f946f727",
          "showTitle": false,
          "tableResultSettingsMap": {},
          "title": ""
        },
        "id": "pxCGz77O9whO"
      },
      "source": [
        "\n",
        "#### 01. Trigger - default or unspecifed Trigger"
      ]
    },
    {
      "cell_type": "code",
      "execution_count": null,
      "metadata": {
        "application/vnd.databricks.v1+cell": {
          "cellMetadata": {},
          "inputWidgets": {},
          "nuid": "fb695e93-8aed-48e9-b7ac-8208105cbd4b",
          "showTitle": false,
          "tableResultSettingsMap": {},
          "title": ""
        },
        "id": "sAfn1K4N9whO"
      },
      "outputs": [],
      "source": [
        " WriteStream = ( df.writeStream\n",
        "        .option('checkpointLocation',f'{source_dir}/AppendCheckpoint')\n",
        "        .outputMode(\"append\")\n",
        "        .queryName('DefaultTrigger')\n",
        "        .toTable(\"stream.AppendTable\"))"
      ]
    },
    {
      "cell_type": "markdown",
      "metadata": {
        "application/vnd.databricks.v1+cell": {
          "cellMetadata": {},
          "inputWidgets": {},
          "nuid": "81145e7b-55c7-40e0-ad9c-0776a270f77a",
          "showTitle": false,
          "tableResultSettingsMap": {},
          "title": ""
        },
        "id": "5pUV-7Oi9whO"
      },
      "source": [
        "\n",
        "#### 02. Trigger - processingTime"
      ]
    },
    {
      "cell_type": "code",
      "execution_count": null,
      "metadata": {
        "application/vnd.databricks.v1+cell": {
          "cellMetadata": {},
          "inputWidgets": {},
          "nuid": "9c3d83c5-3b4f-4cc8-a3a8-b888188b6719",
          "showTitle": false,
          "tableResultSettingsMap": {},
          "title": ""
        },
        "id": "VEypBYjB9whO"
      },
      "outputs": [],
      "source": [
        " WriteStream = ( df.writeStream\n",
        "        .option('checkpointLocation',f'{source_dir}/AppendCheckpoint')\n",
        "        .outputMode(\"append\")\n",
        "        .trigger(processingTime='2 minutes')\n",
        "        .queryName('ProcessingTime')\n",
        "        .toTable(\"stream.AppendTable\"))"
      ]
    },
    {
      "cell_type": "markdown",
      "metadata": {
        "application/vnd.databricks.v1+cell": {
          "cellMetadata": {},
          "inputWidgets": {},
          "nuid": "f2468550-da1a-4c64-a98e-247ecef97597",
          "showTitle": false,
          "tableResultSettingsMap": {},
          "title": ""
        },
        "id": "_7dMxSr99whO"
      },
      "source": [
        "\n",
        "#### 03. Trigger - availablenow"
      ]
    },
    {
      "cell_type": "code",
      "execution_count": null,
      "metadata": {
        "application/vnd.databricks.v1+cell": {
          "cellMetadata": {},
          "inputWidgets": {},
          "nuid": "73c6c903-805e-4159-bca3-0c2eb64014dc",
          "showTitle": false,
          "tableResultSettingsMap": {},
          "title": ""
        },
        "id": "a9gP_x5i9whP"
      },
      "outputs": [],
      "source": [
        " WriteStream = ( df.writeStream\n",
        "        .option('checkpointLocation',f'{source_dir}/AppendCheckpoint')\n",
        "        .outputMode(\"append\")\n",
        "        .trigger(availableNow=True)\n",
        "        .queryName('AvailableNow')\n",
        "        .toTable(\"stream.AppendTable\"))"
      ]
    },
    {
      "cell_type": "code",
      "execution_count": null,
      "metadata": {
        "application/vnd.databricks.v1+cell": {
          "cellMetadata": {},
          "inputWidgets": {},
          "nuid": "0f8d82f4-2757-49dd-ad30-80dbdff23af1",
          "showTitle": false,
          "tableResultSettingsMap": {},
          "title": ""
        },
        "id": "19tNNlui9whP"
      },
      "outputs": [],
      "source": [
        "%sql\n",
        "SELECT * FROM stream.AppendTable"
      ]
    },
    {
      "cell_type": "code",
      "execution_count": null,
      "metadata": {
        "application/vnd.databricks.v1+cell": {
          "cellMetadata": {},
          "inputWidgets": {},
          "nuid": "2a87961c-2fae-4cfb-aa76-7dd8094e99f1",
          "showTitle": false,
          "tableResultSettingsMap": {},
          "title": ""
        },
        "id": "7TmIQuRN9whP"
      },
      "outputs": [],
      "source": [
        "%sql\n",
        "drop table stream.AppendTable"
      ]
    }
  ],
  "metadata": {
    "application/vnd.databricks.v1+notebook": {
      "dashboards": [],
      "environmentMetadata": null,
      "language": "python",
      "notebookMetadata": {
        "mostRecentlyExecutedCommandWithImplicitDF": {
          "commandId": 2849695800505011,
          "dataframes": [
            "_sqldf"
          ]
        },
        "pythonIndentUnit": 4
      },
      "notebookName": "Day 10 Part 1 Streaming+basics Part 2 Out Modes and Part 3 Triggers Solutions",
      "widgets": {}
    },
    "colab": {
      "provenance": []
    }
  },
  "nbformat": 4,
  "nbformat_minor": 0
}